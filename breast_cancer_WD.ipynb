{
 "cells": [
  {
   "cell_type": "markdown",
   "metadata": {},
   "source": [
    "* Import the modules\n",
    "* Import dataset from sklearn.datasets"
   ]
  },
  {
   "cell_type": "code",
   "execution_count": 43,
   "metadata": {},
   "outputs": [],
   "source": [
    "import keras\n",
    "import numpy as np\n",
    "from sklearn.datasets import load_breast_cancer\n",
    "from sklearn.model_selection import train_test_split\n",
    "from sklearn.preprocessing import MinMaxScaler\n",
    "from sklearn.metrics import confusion_matrix, ConfusionMatrixDisplay\n",
    "import matplotlib.pyplot as plt\n",
    "from sklearn.metrics import f1_score\n",
    "from sklearn.metrics import recall_score\n",
    "from sklearn.metrics import precision_score"
   ]
  },
  {
   "cell_type": "markdown",
   "metadata": {},
   "source": [
    "* Load the dataset"
   ]
  },
  {
   "cell_type": "code",
   "execution_count": 44,
   "metadata": {},
   "outputs": [],
   "source": [
    "data = load_breast_cancer()\n",
    "X = data.data\n",
    "y = data.target"
   ]
  },
  {
   "cell_type": "markdown",
   "metadata": {},
   "source": [
    "* Split the data into train and test subsets"
   ]
  },
  {
   "cell_type": "code",
   "execution_count": 45,
   "metadata": {},
   "outputs": [
    {
     "name": "stdout",
     "output_type": "stream",
     "text": [
      "TRAIN\n",
      "[[9.029e+00 1.733e+01 5.879e+01 ... 1.750e-01 4.228e-01 1.175e-01]\n",
      " [2.109e+01 2.657e+01 1.427e+02 ... 2.903e-01 4.098e-01 1.284e-01]\n",
      " [9.173e+00 1.386e+01 5.920e+01 ... 5.087e-02 3.282e-01 8.490e-02]\n",
      " ...\n",
      " [1.429e+01 1.682e+01 9.030e+01 ... 3.333e-02 2.458e-01 6.120e-02]\n",
      " [1.398e+01 1.962e+01 9.112e+01 ... 1.827e-01 3.179e-01 1.055e-01]\n",
      " [1.218e+01 2.052e+01 7.722e+01 ... 7.431e-02 2.694e-01 6.878e-02]]\n",
      "TEST\n",
      "[[1.247e+01 1.860e+01 8.109e+01 ... 1.015e-01 3.014e-01 8.750e-02]\n",
      " [1.894e+01 2.131e+01 1.236e+02 ... 1.789e-01 2.551e-01 6.589e-02]\n",
      " [1.546e+01 1.948e+01 1.017e+02 ... 1.514e-01 2.837e-01 8.019e-02]\n",
      " ...\n",
      " [1.152e+01 1.493e+01 7.387e+01 ... 9.608e-02 2.664e-01 7.809e-02]\n",
      " [1.422e+01 2.785e+01 9.255e+01 ... 8.219e-02 1.890e-01 7.796e-02]\n",
      " [2.073e+01 3.112e+01 1.357e+02 ... 1.659e-01 2.868e-01 8.218e-02]]\n"
     ]
    }
   ],
   "source": [
    "X_train, X_test, y_train, y_test = train_test_split(X, y, test_size=0.2, random_state=42)\n",
    "print(\"TRAIN\")\n",
    "print(X_train)\n",
    "print(\"TEST\")\n",
    "print(X_test)"
   ]
  },
  {
   "cell_type": "markdown",
   "metadata": {},
   "source": [
    "* Normalize the features\n",
    "In order for the model to have better performance and avoid bias by features that have larger values\n",
    "Set up data in values between 0 and 1"
   ]
  },
  {
   "cell_type": "code",
   "execution_count": 46,
   "metadata": {},
   "outputs": [
    {
     "name": "stdout",
     "output_type": "stream",
     "text": [
      "TRAIN\n",
      "[[0.06552721 0.25769361 0.07732252 ... 0.60137457 0.52493594 0.52950153]\n",
      " [0.65620256 0.57017247 0.67420686 ... 0.9975945  0.49931007 0.62190573]\n",
      " [0.07257946 0.14034494 0.08023901 ... 0.174811   0.33845851 0.25313666]\n",
      " ...\n",
      " [0.32317939 0.2404464  0.30146536 ... 0.11453608 0.17602996 0.05222109]\n",
      " [0.30799745 0.33513696 0.30729834 ... 0.62783505 0.31815494 0.42777213]\n",
      " [0.21984426 0.36557322 0.20842225 ... 0.25536082 0.22255076 0.11648016]]\n",
      "TEST\n",
      "[[0.23404672 0.30064254 0.23595106 ... 0.34879725 0.2856298  0.27517803]\n",
      " [0.55090847 0.39228948 0.53834116 ... 0.61477663 0.19436231 0.09198033]\n",
      " [0.38047897 0.33040243 0.38255797 ... 0.52027491 0.25073921 0.21320787]\n",
      " ...\n",
      " [0.18752143 0.17653027 0.1845924  ... 0.33017182 0.2166371  0.19540522]\n",
      " [0.31975121 0.61345959 0.31747048 ... 0.28243986 0.06406466 0.19430315]\n",
      " [0.63857192 0.72404464 0.62441315 ... 0.57010309 0.25684999 0.23007799]]\n"
     ]
    }
   ],
   "source": [
    "scaler = MinMaxScaler()\n",
    "X_train = scaler.fit_transform(X_train)\n",
    "X_test = scaler.transform(X_test)\n",
    "\n",
    "# sneak peek data\n",
    "print(\"TRAIN\")\n",
    "print(X_train)\n",
    "print(\"TEST\")\n",
    "print(X_test)\n"
   ]
  },
  {
   "cell_type": "markdown",
   "metadata": {},
   "source": [
    "# Define the MLP (Multi Layer Perceptron) model\n",
    "\n",
    "* The choice of the number of layers, neurons, activation functions, and hyperparameters can affect the performance and generalization of the model. I decided on these values based  on some common practices and heuristics for MLP design, such as:\n",
    "    * Using a sigmoid activation function for the output layer, since this is a binary classification problem.\n",
    "    * Using a sigmoid activation function for the hidden layers, since this is a simple and smooth nonlinear function that can approximate any function.\n",
    "    * Using a binary cross-entropy loss function, since this is a suitable loss for binary classification problems.\n",
    "    * Using an adam optimizer, since this is a popular and efficient gradient-based optimization algorithm that can adapt the learning rate dynamically.\n",
    "    * Using a small number of hidden layers (three) and neurons (16, 8, and 4), since this is a relatively small and low-dimensional dataset (569 samples and 30 features), and a complex model might overfit the data.\n",
    "    * Using a validation split of 0.2, since this is a reasonable proportion of the data to use for evaluating the model during training.\n",
    "    * Using 100 epochs and 32 batch size, since these are typical values that can allow the model to converge without taking too long.\n"
   ]
  },
  {
   "cell_type": "code",
   "execution_count": 47,
   "metadata": {},
   "outputs": [],
   "source": [
    "model = keras.models.Sequential()\n",
    "model.add(keras.layers.Dense(16, activation='sigmoid', input_shape=(30,)))\n",
    "model.add(keras.layers.Dense(8, activation='sigmoid'))\n",
    "model.add(keras.layers.Dense(4, activation='sigmoid'))\n",
    "model.add(keras.layers.Dense(1, activation='sigmoid'))"
   ]
  },
  {
   "cell_type": "markdown",
   "metadata": {},
   "source": [
    "* Compile the model"
   ]
  },
  {
   "cell_type": "code",
   "execution_count": 48,
   "metadata": {},
   "outputs": [],
   "source": [
    "model.compile(loss='binary_crossentropy', optimizer='adam', metrics=['accuracy'])"
   ]
  },
  {
   "cell_type": "markdown",
   "metadata": {},
   "source": [
    "* Train the model"
   ]
  },
  {
   "cell_type": "code",
   "execution_count": 49,
   "metadata": {},
   "outputs": [
    {
     "name": "stdout",
     "output_type": "stream",
     "text": [
      "Epoch 1/100\n",
      "15/15 [==============================] - 1s 10ms/step - loss: 0.6887 - accuracy: 0.6022 - val_loss: 0.6828 - val_accuracy: 0.6228\n",
      "Epoch 2/100\n",
      "15/15 [==============================] - 0s 3ms/step - loss: 0.6790 - accuracy: 0.6286 - val_loss: 0.6742 - val_accuracy: 0.6228\n",
      "Epoch 3/100\n",
      "15/15 [==============================] - 0s 4ms/step - loss: 0.6708 - accuracy: 0.6286 - val_loss: 0.6687 - val_accuracy: 0.6228\n",
      "Epoch 4/100\n",
      "15/15 [==============================] - 0s 3ms/step - loss: 0.6661 - accuracy: 0.6286 - val_loss: 0.6647 - val_accuracy: 0.6228\n",
      "Epoch 5/100\n",
      "15/15 [==============================] - 0s 3ms/step - loss: 0.6620 - accuracy: 0.6286 - val_loss: 0.6617 - val_accuracy: 0.6228\n",
      "Epoch 6/100\n",
      "15/15 [==============================] - 0s 3ms/step - loss: 0.6593 - accuracy: 0.6286 - val_loss: 0.6595 - val_accuracy: 0.6228\n",
      "Epoch 7/100\n",
      "15/15 [==============================] - 0s 3ms/step - loss: 0.6570 - accuracy: 0.6286 - val_loss: 0.6573 - val_accuracy: 0.6228\n",
      "Epoch 8/100\n",
      "15/15 [==============================] - 0s 3ms/step - loss: 0.6550 - accuracy: 0.6286 - val_loss: 0.6553 - val_accuracy: 0.6228\n",
      "Epoch 9/100\n",
      "15/15 [==============================] - 0s 3ms/step - loss: 0.6530 - accuracy: 0.6286 - val_loss: 0.6530 - val_accuracy: 0.6228\n",
      "Epoch 10/100\n",
      "15/15 [==============================] - 0s 3ms/step - loss: 0.6506 - accuracy: 0.6286 - val_loss: 0.6509 - val_accuracy: 0.6228\n",
      "Epoch 11/100\n",
      "15/15 [==============================] - 0s 3ms/step - loss: 0.6485 - accuracy: 0.6286 - val_loss: 0.6486 - val_accuracy: 0.6228\n",
      "Epoch 12/100\n",
      "15/15 [==============================] - 0s 3ms/step - loss: 0.6464 - accuracy: 0.6286 - val_loss: 0.6461 - val_accuracy: 0.6228\n",
      "Epoch 13/100\n",
      "15/15 [==============================] - 0s 3ms/step - loss: 0.6438 - accuracy: 0.6286 - val_loss: 0.6433 - val_accuracy: 0.6228\n",
      "Epoch 14/100\n",
      "15/15 [==============================] - 0s 3ms/step - loss: 0.6412 - accuracy: 0.6286 - val_loss: 0.6403 - val_accuracy: 0.6228\n",
      "Epoch 15/100\n",
      "15/15 [==============================] - 0s 3ms/step - loss: 0.6382 - accuracy: 0.6286 - val_loss: 0.6369 - val_accuracy: 0.6228\n",
      "Epoch 16/100\n",
      "15/15 [==============================] - 0s 3ms/step - loss: 0.6352 - accuracy: 0.6286 - val_loss: 0.6332 - val_accuracy: 0.6228\n",
      "Epoch 17/100\n",
      "15/15 [==============================] - 0s 3ms/step - loss: 0.6323 - accuracy: 0.6286 - val_loss: 0.6293 - val_accuracy: 0.6228\n",
      "Epoch 18/100\n",
      "15/15 [==============================] - 0s 3ms/step - loss: 0.6277 - accuracy: 0.6286 - val_loss: 0.6249 - val_accuracy: 0.6228\n",
      "Epoch 19/100\n",
      "15/15 [==============================] - 0s 3ms/step - loss: 0.6233 - accuracy: 0.6286 - val_loss: 0.6200 - val_accuracy: 0.6228\n",
      "Epoch 20/100\n",
      "15/15 [==============================] - 0s 3ms/step - loss: 0.6187 - accuracy: 0.6286 - val_loss: 0.6145 - val_accuracy: 0.6228\n",
      "Epoch 21/100\n",
      "15/15 [==============================] - 0s 3ms/step - loss: 0.6131 - accuracy: 0.6286 - val_loss: 0.6085 - val_accuracy: 0.6228\n",
      "Epoch 22/100\n",
      "15/15 [==============================] - 0s 3ms/step - loss: 0.6074 - accuracy: 0.6286 - val_loss: 0.6020 - val_accuracy: 0.6228\n",
      "Epoch 23/100\n",
      "15/15 [==============================] - 0s 3ms/step - loss: 0.6011 - accuracy: 0.6286 - val_loss: 0.5948 - val_accuracy: 0.6228\n",
      "Epoch 24/100\n",
      "15/15 [==============================] - 0s 3ms/step - loss: 0.5939 - accuracy: 0.6286 - val_loss: 0.5870 - val_accuracy: 0.6228\n",
      "Epoch 25/100\n",
      "15/15 [==============================] - 0s 3ms/step - loss: 0.5866 - accuracy: 0.6286 - val_loss: 0.5783 - val_accuracy: 0.6228\n",
      "Epoch 26/100\n",
      "15/15 [==============================] - 0s 3ms/step - loss: 0.5780 - accuracy: 0.6286 - val_loss: 0.5692 - val_accuracy: 0.6228\n",
      "Epoch 27/100\n",
      "15/15 [==============================] - 0s 3ms/step - loss: 0.5694 - accuracy: 0.6330 - val_loss: 0.5593 - val_accuracy: 0.6404\n",
      "Epoch 28/100\n",
      "15/15 [==============================] - 0s 3ms/step - loss: 0.5596 - accuracy: 0.6527 - val_loss: 0.5487 - val_accuracy: 0.6930\n",
      "Epoch 29/100\n",
      "15/15 [==============================] - 0s 3ms/step - loss: 0.5495 - accuracy: 0.6791 - val_loss: 0.5377 - val_accuracy: 0.7544\n",
      "Epoch 30/100\n",
      "15/15 [==============================] - 0s 3ms/step - loss: 0.5389 - accuracy: 0.7451 - val_loss: 0.5264 - val_accuracy: 0.7807\n",
      "Epoch 31/100\n",
      "15/15 [==============================] - 0s 3ms/step - loss: 0.5280 - accuracy: 0.7736 - val_loss: 0.5144 - val_accuracy: 0.7895\n",
      "Epoch 32/100\n",
      "15/15 [==============================] - 0s 3ms/step - loss: 0.5166 - accuracy: 0.8154 - val_loss: 0.5019 - val_accuracy: 0.8421\n",
      "Epoch 33/100\n",
      "15/15 [==============================] - 0s 3ms/step - loss: 0.5045 - accuracy: 0.8637 - val_loss: 0.4894 - val_accuracy: 0.8684\n",
      "Epoch 34/100\n",
      "15/15 [==============================] - 0s 3ms/step - loss: 0.4926 - accuracy: 0.8769 - val_loss: 0.4761 - val_accuracy: 0.8772\n",
      "Epoch 35/100\n",
      "15/15 [==============================] - 0s 3ms/step - loss: 0.4802 - accuracy: 0.8835 - val_loss: 0.4630 - val_accuracy: 0.8860\n",
      "Epoch 36/100\n",
      "15/15 [==============================] - 0s 3ms/step - loss: 0.4677 - accuracy: 0.8967 - val_loss: 0.4500 - val_accuracy: 0.9211\n",
      "Epoch 37/100\n",
      "15/15 [==============================] - 0s 3ms/step - loss: 0.4555 - accuracy: 0.9055 - val_loss: 0.4367 - val_accuracy: 0.9386\n",
      "Epoch 38/100\n",
      "15/15 [==============================] - 0s 3ms/step - loss: 0.4431 - accuracy: 0.9099 - val_loss: 0.4238 - val_accuracy: 0.9386\n",
      "Epoch 39/100\n",
      "15/15 [==============================] - 0s 3ms/step - loss: 0.4313 - accuracy: 0.9099 - val_loss: 0.4113 - val_accuracy: 0.9474\n",
      "Epoch 40/100\n",
      "15/15 [==============================] - 0s 3ms/step - loss: 0.4194 - accuracy: 0.9187 - val_loss: 0.3986 - val_accuracy: 0.9474\n",
      "Epoch 41/100\n",
      "15/15 [==============================] - 0s 3ms/step - loss: 0.4079 - accuracy: 0.9253 - val_loss: 0.3866 - val_accuracy: 0.9474\n",
      "Epoch 42/100\n",
      "15/15 [==============================] - 0s 3ms/step - loss: 0.3968 - accuracy: 0.9297 - val_loss: 0.3749 - val_accuracy: 0.9474\n",
      "Epoch 43/100\n",
      "15/15 [==============================] - 0s 3ms/step - loss: 0.3861 - accuracy: 0.9275 - val_loss: 0.3635 - val_accuracy: 0.9474\n",
      "Epoch 44/100\n",
      "15/15 [==============================] - 0s 3ms/step - loss: 0.3755 - accuracy: 0.9341 - val_loss: 0.3523 - val_accuracy: 0.9474\n",
      "Epoch 45/100\n",
      "15/15 [==============================] - 0s 3ms/step - loss: 0.3658 - accuracy: 0.9341 - val_loss: 0.3419 - val_accuracy: 0.9474\n",
      "Epoch 46/100\n",
      "15/15 [==============================] - 0s 3ms/step - loss: 0.3556 - accuracy: 0.9407 - val_loss: 0.3315 - val_accuracy: 0.9474\n",
      "Epoch 47/100\n",
      "15/15 [==============================] - 0s 3ms/step - loss: 0.3462 - accuracy: 0.9363 - val_loss: 0.3219 - val_accuracy: 0.9474\n",
      "Epoch 48/100\n",
      "15/15 [==============================] - 0s 3ms/step - loss: 0.3381 - accuracy: 0.9363 - val_loss: 0.3129 - val_accuracy: 0.9474\n",
      "Epoch 49/100\n",
      "15/15 [==============================] - 0s 3ms/step - loss: 0.3290 - accuracy: 0.9451 - val_loss: 0.3041 - val_accuracy: 0.9649\n",
      "Epoch 50/100\n",
      "15/15 [==============================] - 0s 3ms/step - loss: 0.3211 - accuracy: 0.9473 - val_loss: 0.2955 - val_accuracy: 0.9737\n",
      "Epoch 51/100\n",
      "15/15 [==============================] - 0s 3ms/step - loss: 0.3132 - accuracy: 0.9473 - val_loss: 0.2870 - val_accuracy: 0.9737\n",
      "Epoch 52/100\n",
      "15/15 [==============================] - 0s 3ms/step - loss: 0.3061 - accuracy: 0.9495 - val_loss: 0.2795 - val_accuracy: 0.9649\n",
      "Epoch 53/100\n",
      "15/15 [==============================] - 0s 3ms/step - loss: 0.2993 - accuracy: 0.9429 - val_loss: 0.2727 - val_accuracy: 0.9561\n",
      "Epoch 54/100\n",
      "15/15 [==============================] - 0s 3ms/step - loss: 0.2921 - accuracy: 0.9495 - val_loss: 0.2654 - val_accuracy: 0.9649\n",
      "Epoch 55/100\n",
      "15/15 [==============================] - 0s 3ms/step - loss: 0.2860 - accuracy: 0.9473 - val_loss: 0.2590 - val_accuracy: 0.9737\n",
      "Epoch 56/100\n",
      "15/15 [==============================] - 0s 3ms/step - loss: 0.2796 - accuracy: 0.9516 - val_loss: 0.2526 - val_accuracy: 0.9737\n",
      "Epoch 57/100\n",
      "15/15 [==============================] - 0s 3ms/step - loss: 0.2738 - accuracy: 0.9538 - val_loss: 0.2468 - val_accuracy: 0.9737\n",
      "Epoch 58/100\n",
      "15/15 [==============================] - 0s 3ms/step - loss: 0.2684 - accuracy: 0.9516 - val_loss: 0.2407 - val_accuracy: 0.9649\n",
      "Epoch 59/100\n",
      "15/15 [==============================] - 0s 3ms/step - loss: 0.2628 - accuracy: 0.9560 - val_loss: 0.2353 - val_accuracy: 0.9737\n",
      "Epoch 60/100\n",
      "15/15 [==============================] - 0s 3ms/step - loss: 0.2575 - accuracy: 0.9560 - val_loss: 0.2299 - val_accuracy: 0.9737\n",
      "Epoch 61/100\n",
      "15/15 [==============================] - 0s 3ms/step - loss: 0.2538 - accuracy: 0.9495 - val_loss: 0.2250 - val_accuracy: 0.9737\n",
      "Epoch 62/100\n",
      "15/15 [==============================] - 0s 3ms/step - loss: 0.2482 - accuracy: 0.9560 - val_loss: 0.2203 - val_accuracy: 0.9737\n",
      "Epoch 63/100\n",
      "15/15 [==============================] - 0s 3ms/step - loss: 0.2440 - accuracy: 0.9538 - val_loss: 0.2158 - val_accuracy: 0.9737\n",
      "Epoch 64/100\n",
      "15/15 [==============================] - 0s 3ms/step - loss: 0.2388 - accuracy: 0.9560 - val_loss: 0.2112 - val_accuracy: 0.9649\n",
      "Epoch 65/100\n",
      "15/15 [==============================] - 0s 3ms/step - loss: 0.2347 - accuracy: 0.9560 - val_loss: 0.2071 - val_accuracy: 0.9737\n",
      "Epoch 66/100\n",
      "15/15 [==============================] - 0s 3ms/step - loss: 0.2306 - accuracy: 0.9582 - val_loss: 0.2028 - val_accuracy: 0.9737\n",
      "Epoch 67/100\n",
      "15/15 [==============================] - 0s 3ms/step - loss: 0.2264 - accuracy: 0.9560 - val_loss: 0.1991 - val_accuracy: 0.9737\n",
      "Epoch 68/100\n",
      "15/15 [==============================] - 0s 3ms/step - loss: 0.2226 - accuracy: 0.9582 - val_loss: 0.1949 - val_accuracy: 0.9737\n",
      "Epoch 69/100\n",
      "15/15 [==============================] - 0s 3ms/step - loss: 0.2190 - accuracy: 0.9604 - val_loss: 0.1912 - val_accuracy: 0.9737\n",
      "Epoch 70/100\n",
      "15/15 [==============================] - 0s 3ms/step - loss: 0.2150 - accuracy: 0.9582 - val_loss: 0.1879 - val_accuracy: 0.9737\n",
      "Epoch 71/100\n",
      "15/15 [==============================] - 0s 3ms/step - loss: 0.2118 - accuracy: 0.9582 - val_loss: 0.1844 - val_accuracy: 0.9737\n",
      "Epoch 72/100\n",
      "15/15 [==============================] - 0s 3ms/step - loss: 0.2081 - accuracy: 0.9582 - val_loss: 0.1812 - val_accuracy: 0.9737\n",
      "Epoch 73/100\n",
      "15/15 [==============================] - 0s 3ms/step - loss: 0.2049 - accuracy: 0.9626 - val_loss: 0.1779 - val_accuracy: 0.9737\n",
      "Epoch 74/100\n",
      "15/15 [==============================] - 0s 3ms/step - loss: 0.2019 - accuracy: 0.9604 - val_loss: 0.1758 - val_accuracy: 0.9737\n",
      "Epoch 75/100\n",
      "15/15 [==============================] - 0s 3ms/step - loss: 0.1991 - accuracy: 0.9604 - val_loss: 0.1720 - val_accuracy: 0.9737\n",
      "Epoch 76/100\n",
      "15/15 [==============================] - 0s 3ms/step - loss: 0.1951 - accuracy: 0.9626 - val_loss: 0.1695 - val_accuracy: 0.9737\n",
      "Epoch 77/100\n",
      "15/15 [==============================] - 0s 3ms/step - loss: 0.1925 - accuracy: 0.9648 - val_loss: 0.1663 - val_accuracy: 0.9737\n",
      "Epoch 78/100\n",
      "15/15 [==============================] - 0s 3ms/step - loss: 0.1894 - accuracy: 0.9670 - val_loss: 0.1636 - val_accuracy: 0.9649\n",
      "Epoch 79/100\n",
      "15/15 [==============================] - 0s 3ms/step - loss: 0.1864 - accuracy: 0.9670 - val_loss: 0.1610 - val_accuracy: 0.9649\n",
      "Epoch 80/100\n",
      "15/15 [==============================] - 0s 3ms/step - loss: 0.1838 - accuracy: 0.9670 - val_loss: 0.1587 - val_accuracy: 0.9649\n",
      "Epoch 81/100\n",
      "15/15 [==============================] - 0s 3ms/step - loss: 0.1809 - accuracy: 0.9648 - val_loss: 0.1561 - val_accuracy: 0.9737\n",
      "Epoch 82/100\n",
      "15/15 [==============================] - 0s 3ms/step - loss: 0.1783 - accuracy: 0.9670 - val_loss: 0.1537 - val_accuracy: 0.9649\n",
      "Epoch 83/100\n",
      "15/15 [==============================] - 0s 3ms/step - loss: 0.1757 - accuracy: 0.9670 - val_loss: 0.1514 - val_accuracy: 0.9737\n",
      "Epoch 84/100\n",
      "15/15 [==============================] - 0s 3ms/step - loss: 0.1732 - accuracy: 0.9670 - val_loss: 0.1494 - val_accuracy: 0.9649\n",
      "Epoch 85/100\n",
      "15/15 [==============================] - 0s 3ms/step - loss: 0.1706 - accuracy: 0.9670 - val_loss: 0.1473 - val_accuracy: 0.9649\n",
      "Epoch 86/100\n",
      "15/15 [==============================] - 0s 3ms/step - loss: 0.1708 - accuracy: 0.9626 - val_loss: 0.1465 - val_accuracy: 0.9737\n",
      "Epoch 87/100\n",
      "15/15 [==============================] - 0s 3ms/step - loss: 0.1657 - accuracy: 0.9670 - val_loss: 0.1431 - val_accuracy: 0.9737\n",
      "Epoch 88/100\n",
      "15/15 [==============================] - 0s 3ms/step - loss: 0.1638 - accuracy: 0.9670 - val_loss: 0.1412 - val_accuracy: 0.9737\n",
      "Epoch 89/100\n",
      "15/15 [==============================] - 0s 3ms/step - loss: 0.1617 - accuracy: 0.9692 - val_loss: 0.1394 - val_accuracy: 0.9649\n",
      "Epoch 90/100\n",
      "15/15 [==============================] - 0s 3ms/step - loss: 0.1594 - accuracy: 0.9670 - val_loss: 0.1375 - val_accuracy: 0.9825\n",
      "Epoch 91/100\n",
      "15/15 [==============================] - 0s 3ms/step - loss: 0.1569 - accuracy: 0.9714 - val_loss: 0.1358 - val_accuracy: 0.9649\n",
      "Epoch 92/100\n",
      "15/15 [==============================] - 0s 3ms/step - loss: 0.1558 - accuracy: 0.9714 - val_loss: 0.1344 - val_accuracy: 0.9649\n",
      "Epoch 93/100\n",
      "15/15 [==============================] - 0s 3ms/step - loss: 0.1530 - accuracy: 0.9714 - val_loss: 0.1325 - val_accuracy: 0.9825\n",
      "Epoch 94/100\n",
      "15/15 [==============================] - 0s 3ms/step - loss: 0.1515 - accuracy: 0.9736 - val_loss: 0.1310 - val_accuracy: 0.9825\n",
      "Epoch 95/100\n",
      "15/15 [==============================] - 0s 3ms/step - loss: 0.1491 - accuracy: 0.9714 - val_loss: 0.1298 - val_accuracy: 0.9649\n",
      "Epoch 96/100\n",
      "15/15 [==============================] - 0s 3ms/step - loss: 0.1473 - accuracy: 0.9758 - val_loss: 0.1282 - val_accuracy: 0.9737\n",
      "Epoch 97/100\n",
      "15/15 [==============================] - 0s 3ms/step - loss: 0.1452 - accuracy: 0.9736 - val_loss: 0.1265 - val_accuracy: 0.9825\n",
      "Epoch 98/100\n",
      "15/15 [==============================] - 0s 3ms/step - loss: 0.1441 - accuracy: 0.9758 - val_loss: 0.1251 - val_accuracy: 0.9737\n",
      "Epoch 99/100\n",
      "15/15 [==============================] - 0s 3ms/step - loss: 0.1417 - accuracy: 0.9736 - val_loss: 0.1238 - val_accuracy: 0.9825\n",
      "Epoch 100/100\n",
      "15/15 [==============================] - 0s 3ms/step - loss: 0.1404 - accuracy: 0.9736 - val_loss: 0.1222 - val_accuracy: 0.9825\n"
     ]
    },
    {
     "data": {
      "text/plain": [
       "<keras.src.callbacks.History at 0x27c031ffdf0>"
      ]
     },
     "execution_count": 49,
     "metadata": {},
     "output_type": "execute_result"
    }
   ],
   "source": [
    "model.fit(X_train, y_train, epochs=100, batch_size=32, validation_data=(X_test, y_test))"
   ]
  },
  {
   "cell_type": "markdown",
   "metadata": {},
   "source": [
    "* Evaluate the model"
   ]
  },
  {
   "cell_type": "code",
   "execution_count": 50,
   "metadata": {},
   "outputs": [
    {
     "name": "stdout",
     "output_type": "stream",
     "text": [
      "4/4 [==============================] - 0s 1ms/step - loss: 0.1222 - accuracy: 0.9825\n",
      "Test loss: 0.12219662219285965\n",
      "Test accuracy: 0.9824561476707458\n"
     ]
    }
   ],
   "source": [
    "loss, accuracy = model.evaluate(X_test, y_test)\n",
    "print('Test loss:', loss)\n",
    "print('Test accuracy:', accuracy)"
   ]
  },
  {
   "cell_type": "markdown",
   "metadata": {},
   "source": [
    "* Generate predictions"
   ]
  },
  {
   "cell_type": "code",
   "execution_count": 51,
   "metadata": {},
   "outputs": [
    {
     "name": "stdout",
     "output_type": "stream",
     "text": [
      "4/4 [==============================] - 0s 1ms/step\n",
      "Predictions: [[1]\n",
      " [0]\n",
      " [0]\n",
      " [1]\n",
      " [1]\n",
      " [0]\n",
      " [0]\n",
      " [0]\n",
      " [1]\n",
      " [1]\n",
      " [1]\n",
      " [0]\n",
      " [1]\n",
      " [0]\n",
      " [1]\n",
      " [0]\n",
      " [1]\n",
      " [1]\n",
      " [1]\n",
      " [0]\n",
      " [1]\n",
      " [1]\n",
      " [0]\n",
      " [1]\n",
      " [1]\n",
      " [1]\n",
      " [1]\n",
      " [1]\n",
      " [1]\n",
      " [0]\n",
      " [1]\n",
      " [1]\n",
      " [1]\n",
      " [1]\n",
      " [1]\n",
      " [1]\n",
      " [0]\n",
      " [1]\n",
      " [0]\n",
      " [1]\n",
      " [1]\n",
      " [0]\n",
      " [1]\n",
      " [1]\n",
      " [1]\n",
      " [1]\n",
      " [1]\n",
      " [1]\n",
      " [1]\n",
      " [1]\n",
      " [0]\n",
      " [0]\n",
      " [1]\n",
      " [1]\n",
      " [1]\n",
      " [1]\n",
      " [1]\n",
      " [0]\n",
      " [0]\n",
      " [1]\n",
      " [1]\n",
      " [0]\n",
      " [0]\n",
      " [1]\n",
      " [1]\n",
      " [1]\n",
      " [0]\n",
      " [0]\n",
      " [1]\n",
      " [1]\n",
      " [0]\n",
      " [0]\n",
      " [1]\n",
      " [0]\n",
      " [1]\n",
      " [1]\n",
      " [1]\n",
      " [0]\n",
      " [1]\n",
      " [1]\n",
      " [0]\n",
      " [1]\n",
      " [0]\n",
      " [0]\n",
      " [0]\n",
      " [0]\n",
      " [0]\n",
      " [0]\n",
      " [1]\n",
      " [1]\n",
      " [1]\n",
      " [1]\n",
      " [1]\n",
      " [1]\n",
      " [1]\n",
      " [1]\n",
      " [0]\n",
      " [0]\n",
      " [1]\n",
      " [0]\n",
      " [0]\n",
      " [1]\n",
      " [0]\n",
      " [0]\n",
      " [1]\n",
      " [1]\n",
      " [1]\n",
      " [0]\n",
      " [1]\n",
      " [1]\n",
      " [0]\n",
      " [1]\n",
      " [0]\n",
      " [0]]\n"
     ]
    }
   ],
   "source": [
    "y_pred = (model.predict(X_test) > 0.5).astype(\"int32\")\n",
    "\n",
    "print('Predictions:', y_pred)"
   ]
  },
  {
   "cell_type": "markdown",
   "metadata": {},
   "source": [
    "* Generate the confusion matrix\n",
    "* Print the confusion matrix"
   ]
  },
  {
   "cell_type": "code",
   "execution_count": 52,
   "metadata": {},
   "outputs": [],
   "source": [
    "cm = confusion_matrix(y_test, y_pred)\n",
    "print(cm)"
   ]
  },
  {
   "cell_type": "markdown",
   "metadata": {},
   "source": [
    "* Plot the confusion matrix"
   ]
  },
  {
   "cell_type": "code",
   "execution_count": 54,
   "metadata": {},
   "outputs": [
    {
     "data": {
      "image/png": "[encoded data removed]",
      "text/plain": [
       "<Figure size 640x480 with 2 Axes>"
      ]
     },
     "metadata": {},
     "output_type": "display_data"
    }
   ],
   "source": [
    "cmd = ConfusionMatrixDisplay(cm, display_labels=['Benign', 'Malignant'])\n",
    "cmd.plot()\n",
    "plt.show()"
   ]
  },
  {
   "cell_type": "markdown",
   "metadata": {},
   "source": [
    "* Get the Precision, which is the proportion of positive predictions that are actually positive"
   ]
  },
  {
   "cell_type": "code",
   "execution_count": 56,
   "metadata": {},
   "outputs": [
    {
     "name": "stdout",
     "output_type": "stream",
     "text": [
      "Precision score: 0.9859154929577465\n"
     ]
    }
   ],
   "source": [
    "precision = precision_score(y_test, y_pred)\n",
    "print('Precision score:', precision)"
   ]
  },
  {
   "cell_type": "markdown",
   "metadata": {},
   "source": [
    "* Get the F1 score, which is the harmonic mean or precision and recall that measures the balance between them\n",
    "* Get the recall score, which os the proportion of positive samples that are correctly predicted"
   ]
  },
  {
   "cell_type": "code",
   "execution_count": 58,
   "metadata": {},
   "outputs": [
    {
     "name": "stdout",
     "output_type": "stream",
     "text": [
      "*----------------------------*\n",
      "Recall:  0.9859154929577465\n",
      "*----------------------------*\n",
      "f1:  0.9859154929577465\n",
      "*----------------------------*\n"
     ]
    }
   ],
   "source": [
    "recall = recall_score(y_test, y_pred)\n",
    "print(\"*----------------------------*\")\n",
    "print(\"Recall: \", recall)\n",
    "f1 = f1_score(y_test, y_pred)\n",
    "print(\"*----------------------------*\")\n",
    "print(\"f1: \", f1)\n",
    "print(\"*----------------------------*\")\n"
   ]
  },
  {
   "cell_type": "markdown",
   "metadata": {},
   "source": [
    "# Conclusions from MLP\n",
    "\n",
    "Based on these results for the confusion matrix, I would conclude that the classification model is very accurate and has high performance on the test set.\n",
    "\n",
    "# Results analysis\n",
    "* Accuracy 0.973 this means that the model predicted correctly 97.37% of the test samples\n",
    "* Precision \n",
    "    * 0.9722 for positive (malignant) calculated by the formula TP/(TP + FP) giving a 97.22% of correctly predicted malignant samples\n",
    "    * 0.9762 for negative (benignant) calculated by the formula TN/(TN + FN) giving a 97.62% of correctly predicted benign samples\n",
    "* Recall \n",
    "    * 0.9859 Proportion of positive samples (malignant) that are correctly determined by the formula TP/(TP + FN) meaning 98.58% correct predictions\n",
    "    * 0.9535 Proportion of negative samples (benign)    that are correctly determined by the formula FN/(FN + TN) meaning 95.35% correct predictions\n",
    "* F1 score: The harmonic mean of precision and recall that measures the balance between them calculated by: 2 * (precision * recall) / (precision + recall)\n",
    "    * positive (malignant): 0.9790 which means there's a high balance between precision and recall for the malignan samples\n",
    "    * negative (benign):    0.9648 which means there's a high balance between precision and recall for the benign   samples\n",
    "\n",
    "* There's a very good overall score for the MLP approach to this dataset\n"
   ]
  }
 ],
 "metadata": {
  "kernelspec": {
   "display_name": "Python 3",
   "language": "python",
   "name": "python3"
  },
  "language_info": {
   "codemirror_mode": {
    "name": "ipython",
    "version": 3
   },
   "file_extension": ".py",
   "mimetype": "text/x-python",
   "name": "python",
   "nbconvert_exporter": "python",
   "pygments_lexer": "ipython3",
   "version": "3.8.0"
  }
 },
 "nbformat": 4,
 "nbformat_minor": 2
}
