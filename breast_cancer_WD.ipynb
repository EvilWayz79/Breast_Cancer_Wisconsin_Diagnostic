{
 "cells": [
  {
   "cell_type": "markdown",
   "metadata": {},
   "source": [
    "* Import the modules\n",
    "* Import dataset from sklearn.datasets"
   ]
  },
  {
   "cell_type": "code",
   "execution_count": 1,
   "metadata": {},
   "outputs": [],
   "source": [
    "import keras\n",
    "import numpy as np\n",
    "from sklearn.datasets import load_breast_cancer\n",
    "from sklearn.model_selection import train_test_split\n",
    "from sklearn.preprocessing import MinMaxScaler\n",
    "from sklearn.metrics import confusion_matrix, ConfusionMatrixDisplay\n",
    "import matplotlib.pyplot as plt\n",
    "from sklearn.metrics import f1_score\n",
    "from sklearn.metrics import recall_score\n",
    "from sklearn.metrics import precision_score"
   ]
  },
  {
   "cell_type": "markdown",
   "metadata": {},
   "source": [
    "* Load the dataset"
   ]
  },
  {
   "cell_type": "code",
   "execution_count": 2,
   "metadata": {},
   "outputs": [],
   "source": [
    "data = load_breast_cancer()\n",
    "X = data.data\n",
    "y = data.target"
   ]
  },
  {
   "cell_type": "markdown",
   "metadata": {},
   "source": [
    "* Split the data into train and test subsets"
   ]
  },
  {
   "cell_type": "code",
   "execution_count": 3,
   "metadata": {},
   "outputs": [
    {
     "name": "stdout",
     "output_type": "stream",
     "text": [
      "TRAIN\n",
      "[[9.029e+00 1.733e+01 5.879e+01 ... 1.750e-01 4.228e-01 1.175e-01]\n",
      " [2.109e+01 2.657e+01 1.427e+02 ... 2.903e-01 4.098e-01 1.284e-01]\n",
      " [9.173e+00 1.386e+01 5.920e+01 ... 5.087e-02 3.282e-01 8.490e-02]\n",
      " ...\n",
      " [1.429e+01 1.682e+01 9.030e+01 ... 3.333e-02 2.458e-01 6.120e-02]\n",
      " [1.398e+01 1.962e+01 9.112e+01 ... 1.827e-01 3.179e-01 1.055e-01]\n",
      " [1.218e+01 2.052e+01 7.722e+01 ... 7.431e-02 2.694e-01 6.878e-02]]\n",
      "TEST\n",
      "[[1.247e+01 1.860e+01 8.109e+01 ... 1.015e-01 3.014e-01 8.750e-02]\n",
      " [1.894e+01 2.131e+01 1.236e+02 ... 1.789e-01 2.551e-01 6.589e-02]\n",
      " [1.546e+01 1.948e+01 1.017e+02 ... 1.514e-01 2.837e-01 8.019e-02]\n",
      " ...\n",
      " [1.152e+01 1.493e+01 7.387e+01 ... 9.608e-02 2.664e-01 7.809e-02]\n",
      " [1.422e+01 2.785e+01 9.255e+01 ... 8.219e-02 1.890e-01 7.796e-02]\n",
      " [2.073e+01 3.112e+01 1.357e+02 ... 1.659e-01 2.868e-01 8.218e-02]]\n"
     ]
    }
   ],
   "source": [
    "X_train, X_test, y_train, y_test = train_test_split(X, y, test_size=0.2, random_state=42)\n",
    "print(\"TRAIN\")\n",
    "print(X_train)\n",
    "print(\"TEST\")\n",
    "print(X_test)"
   ]
  },
  {
   "cell_type": "markdown",
   "metadata": {},
   "source": [
    "* Normalize the features\n",
    "In order for the model to have better performance and avoid bias by features that have larger values\n",
    "Set up data in values between 0 and 1"
   ]
  },
  {
   "cell_type": "code",
   "execution_count": 4,
   "metadata": {},
   "outputs": [
    {
     "name": "stdout",
     "output_type": "stream",
     "text": [
      "TRAIN\n",
      "[[0.06552721 0.25769361 0.07732252 ... 0.60137457 0.52493594 0.52950153]\n",
      " [0.65620256 0.57017247 0.67420686 ... 0.9975945  0.49931007 0.62190573]\n",
      " [0.07257946 0.14034494 0.08023901 ... 0.174811   0.33845851 0.25313666]\n",
      " ...\n",
      " [0.32317939 0.2404464  0.30146536 ... 0.11453608 0.17602996 0.05222109]\n",
      " [0.30799745 0.33513696 0.30729834 ... 0.62783505 0.31815494 0.42777213]\n",
      " [0.21984426 0.36557322 0.20842225 ... 0.25536082 0.22255076 0.11648016]]\n",
      "TEST\n",
      "[[0.23404672 0.30064254 0.23595106 ... 0.34879725 0.2856298  0.27517803]\n",
      " [0.55090847 0.39228948 0.53834116 ... 0.61477663 0.19436231 0.09198033]\n",
      " [0.38047897 0.33040243 0.38255797 ... 0.52027491 0.25073921 0.21320787]\n",
      " ...\n",
      " [0.18752143 0.17653027 0.1845924  ... 0.33017182 0.2166371  0.19540522]\n",
      " [0.31975121 0.61345959 0.31747048 ... 0.28243986 0.06406466 0.19430315]\n",
      " [0.63857192 0.72404464 0.62441315 ... 0.57010309 0.25684999 0.23007799]]\n"
     ]
    }
   ],
   "source": [
    "scaler = MinMaxScaler()\n",
    "X_train = scaler.fit_transform(X_train)\n",
    "X_test = scaler.transform(X_test)\n",
    "\n",
    "# sneak peek data\n",
    "print(\"TRAIN\")\n",
    "print(X_train)\n",
    "print(\"TEST\")\n",
    "print(X_test)\n"
   ]
  },
  {
   "cell_type": "markdown",
   "metadata": {},
   "source": [
    "# Define the MLP (Multi Layer Perceptron) model\n",
    "\n",
    "* The choice of the number of layers, neurons, activation functions, and hyperparameters can affect the performance and generalization of the model. I decided on these values based  on some common practices and heuristics for MLP design, such as:\n",
    "    * Using a sigmoid activation function for the output layer, since this is a binary classification problem.\n",
    "    * Using a sigmoid activation function for the hidden layers, since this is a simple and smooth nonlinear function that can approximate any function.\n",
    "    * Using a binary cross-entropy loss function, since this is a suitable loss for binary classification problems.\n",
    "    * Using an adam optimizer, since this is a popular and efficient gradient-based optimization algorithm that can adapt the learning rate dynamically.\n",
    "    * Using a small number of hidden layers (three) and neurons (16, 8, and 4), since this is a relatively small and low-dimensional dataset (569 samples and 30 features), and a complex model might overfit the data.\n",
    "    * Using a validation split of 0.2, since this is a reasonable proportion of the data to use for evaluating the model during training.\n",
    "    * Using 100 epochs and 32 batch size, since these are typical values that can allow the model to converge without taking too long.\n"
   ]
  },
  {
   "cell_type": "code",
   "execution_count": 5,
   "metadata": {},
   "outputs": [],
   "source": [
    "model = keras.models.Sequential()\n",
    "model.add(keras.layers.Dense(16, activation='sigmoid', input_shape=(30,)))\n",
    "model.add(keras.layers.Dense(8, activation='sigmoid'))\n",
    "model.add(keras.layers.Dense(4, activation='sigmoid'))\n",
    "model.add(keras.layers.Dense(1, activation='sigmoid'))"
   ]
  },
  {
   "cell_type": "markdown",
   "metadata": {},
   "source": [
    "* Compile the model"
   ]
  },
  {
   "cell_type": "code",
   "execution_count": 6,
   "metadata": {},
   "outputs": [],
   "source": [
    "model.compile(loss='binary_crossentropy', optimizer='adam', metrics=['accuracy'])"
   ]
  },
  {
   "cell_type": "markdown",
   "metadata": {},
   "source": [
    "* Train the model"
   ]
  },
  {
   "cell_type": "code",
   "execution_count": 7,
   "metadata": {},
   "outputs": [
    {
     "name": "stdout",
     "output_type": "stream",
     "text": [
      "Epoch 1/100\n",
      "15/15 [==============================] - 1s 13ms/step - loss: 0.6728 - accuracy: 0.6286 - val_loss: 0.6705 - val_accuracy: 0.6228\n",
      "Epoch 2/100\n",
      "15/15 [==============================] - 0s 3ms/step - loss: 0.6674 - accuracy: 0.6286 - val_loss: 0.6658 - val_accuracy: 0.6228\n",
      "Epoch 3/100\n",
      "15/15 [==============================] - 0s 3ms/step - loss: 0.6629 - accuracy: 0.6286 - val_loss: 0.6631 - val_accuracy: 0.6228\n",
      "Epoch 4/100\n",
      "15/15 [==============================] - 0s 3ms/step - loss: 0.6603 - accuracy: 0.6286 - val_loss: 0.6610 - val_accuracy: 0.6228\n",
      "Epoch 5/100\n",
      "15/15 [==============================] - 0s 3ms/step - loss: 0.6582 - accuracy: 0.6286 - val_loss: 0.6592 - val_accuracy: 0.6228\n",
      "Epoch 6/100\n",
      "15/15 [==============================] - 0s 3ms/step - loss: 0.6566 - accuracy: 0.6286 - val_loss: 0.6575 - val_accuracy: 0.6228\n",
      "Epoch 7/100\n",
      "15/15 [==============================] - 0s 3ms/step - loss: 0.6547 - accuracy: 0.6286 - val_loss: 0.6560 - val_accuracy: 0.6228\n",
      "Epoch 8/100\n",
      "15/15 [==============================] - 0s 3ms/step - loss: 0.6535 - accuracy: 0.6286 - val_loss: 0.6544 - val_accuracy: 0.6228\n",
      "Epoch 9/100\n",
      "15/15 [==============================] - 0s 3ms/step - loss: 0.6515 - accuracy: 0.6286 - val_loss: 0.6527 - val_accuracy: 0.6228\n",
      "Epoch 10/100\n",
      "15/15 [==============================] - 0s 3ms/step - loss: 0.6499 - accuracy: 0.6286 - val_loss: 0.6508 - val_accuracy: 0.6228\n",
      "Epoch 11/100\n",
      "15/15 [==============================] - 0s 3ms/step - loss: 0.6481 - accuracy: 0.6286 - val_loss: 0.6489 - val_accuracy: 0.6228\n",
      "Epoch 12/100\n",
      "15/15 [==============================] - 0s 3ms/step - loss: 0.6461 - accuracy: 0.6286 - val_loss: 0.6466 - val_accuracy: 0.6228\n",
      "Epoch 13/100\n",
      "15/15 [==============================] - 0s 5ms/step - loss: 0.6440 - accuracy: 0.6286 - val_loss: 0.6440 - val_accuracy: 0.6228\n",
      "Epoch 14/100\n",
      "15/15 [==============================] - 0s 3ms/step - loss: 0.6414 - accuracy: 0.6286 - val_loss: 0.6411 - val_accuracy: 0.6228\n",
      "Epoch 15/100\n",
      "15/15 [==============================] - 0s 3ms/step - loss: 0.6387 - accuracy: 0.6286 - val_loss: 0.6379 - val_accuracy: 0.6228\n",
      "Epoch 16/100\n",
      "15/15 [==============================] - 0s 3ms/step - loss: 0.6352 - accuracy: 0.6286 - val_loss: 0.6341 - val_accuracy: 0.6228\n",
      "Epoch 17/100\n",
      "15/15 [==============================] - 0s 3ms/step - loss: 0.6315 - accuracy: 0.6286 - val_loss: 0.6299 - val_accuracy: 0.6228\n",
      "Epoch 18/100\n",
      "15/15 [==============================] - 0s 3ms/step - loss: 0.6274 - accuracy: 0.6286 - val_loss: 0.6251 - val_accuracy: 0.6228\n",
      "Epoch 19/100\n",
      "15/15 [==============================] - 0s 3ms/step - loss: 0.6225 - accuracy: 0.6286 - val_loss: 0.6202 - val_accuracy: 0.6228\n",
      "Epoch 20/100\n",
      "15/15 [==============================] - 0s 3ms/step - loss: 0.6173 - accuracy: 0.6286 - val_loss: 0.6140 - val_accuracy: 0.6228\n",
      "Epoch 21/100\n",
      "15/15 [==============================] - 0s 3ms/step - loss: 0.6112 - accuracy: 0.6286 - val_loss: 0.6071 - val_accuracy: 0.6228\n",
      "Epoch 22/100\n",
      "15/15 [==============================] - 0s 3ms/step - loss: 0.6046 - accuracy: 0.6286 - val_loss: 0.5996 - val_accuracy: 0.6228\n",
      "Epoch 23/100\n",
      "15/15 [==============================] - 0s 3ms/step - loss: 0.5972 - accuracy: 0.6286 - val_loss: 0.5912 - val_accuracy: 0.6228\n",
      "Epoch 24/100\n",
      "15/15 [==============================] - 0s 3ms/step - loss: 0.5889 - accuracy: 0.6286 - val_loss: 0.5819 - val_accuracy: 0.6228\n",
      "Epoch 25/100\n",
      "15/15 [==============================] - 0s 3ms/step - loss: 0.5797 - accuracy: 0.6286 - val_loss: 0.5716 - val_accuracy: 0.6228\n",
      "Epoch 26/100\n",
      "15/15 [==============================] - 0s 3ms/step - loss: 0.5697 - accuracy: 0.6286 - val_loss: 0.5605 - val_accuracy: 0.6228\n",
      "Epoch 27/100\n",
      "15/15 [==============================] - 0s 3ms/step - loss: 0.5588 - accuracy: 0.6308 - val_loss: 0.5486 - val_accuracy: 0.6316\n",
      "Epoch 28/100\n",
      "15/15 [==============================] - 0s 3ms/step - loss: 0.5471 - accuracy: 0.6484 - val_loss: 0.5357 - val_accuracy: 0.6930\n",
      "Epoch 29/100\n",
      "15/15 [==============================] - 0s 3ms/step - loss: 0.5347 - accuracy: 0.6945 - val_loss: 0.5225 - val_accuracy: 0.7368\n",
      "Epoch 30/100\n",
      "15/15 [==============================] - 0s 3ms/step - loss: 0.5221 - accuracy: 0.7363 - val_loss: 0.5090 - val_accuracy: 0.7632\n",
      "Epoch 31/100\n",
      "15/15 [==============================] - 0s 3ms/step - loss: 0.5092 - accuracy: 0.7714 - val_loss: 0.4953 - val_accuracy: 0.7982\n",
      "Epoch 32/100\n",
      "15/15 [==============================] - 0s 3ms/step - loss: 0.4962 - accuracy: 0.8066 - val_loss: 0.4812 - val_accuracy: 0.8158\n",
      "Epoch 33/100\n",
      "15/15 [==============================] - 0s 3ms/step - loss: 0.4826 - accuracy: 0.8484 - val_loss: 0.4675 - val_accuracy: 0.8684\n",
      "Epoch 34/100\n",
      "15/15 [==============================] - 0s 3ms/step - loss: 0.4696 - accuracy: 0.8703 - val_loss: 0.4536 - val_accuracy: 0.8772\n",
      "Epoch 35/100\n",
      "15/15 [==============================] - 0s 3ms/step - loss: 0.4570 - accuracy: 0.8791 - val_loss: 0.4400 - val_accuracy: 0.8860\n",
      "Epoch 36/100\n",
      "15/15 [==============================] - 0s 3ms/step - loss: 0.4438 - accuracy: 0.8879 - val_loss: 0.4266 - val_accuracy: 0.9123\n",
      "Epoch 37/100\n",
      "15/15 [==============================] - 0s 3ms/step - loss: 0.4315 - accuracy: 0.8923 - val_loss: 0.4136 - val_accuracy: 0.9211\n",
      "Epoch 38/100\n",
      "15/15 [==============================] - 0s 3ms/step - loss: 0.4195 - accuracy: 0.9077 - val_loss: 0.4014 - val_accuracy: 0.9386\n",
      "Epoch 39/100\n",
      "15/15 [==============================] - 0s 3ms/step - loss: 0.4080 - accuracy: 0.9143 - val_loss: 0.3894 - val_accuracy: 0.9386\n",
      "Epoch 40/100\n",
      "15/15 [==============================] - 0s 3ms/step - loss: 0.3966 - accuracy: 0.9209 - val_loss: 0.3776 - val_accuracy: 0.9474\n",
      "Epoch 41/100\n",
      "15/15 [==============================] - 0s 3ms/step - loss: 0.3860 - accuracy: 0.9319 - val_loss: 0.3664 - val_accuracy: 0.9474\n",
      "Epoch 42/100\n",
      "15/15 [==============================] - 0s 3ms/step - loss: 0.3758 - accuracy: 0.9363 - val_loss: 0.3557 - val_accuracy: 0.9474\n",
      "Epoch 43/100\n",
      "15/15 [==============================] - 0s 3ms/step - loss: 0.3662 - accuracy: 0.9363 - val_loss: 0.3455 - val_accuracy: 0.9474\n",
      "Epoch 44/100\n",
      "15/15 [==============================] - 0s 3ms/step - loss: 0.3569 - accuracy: 0.9407 - val_loss: 0.3357 - val_accuracy: 0.9474\n",
      "Epoch 45/100\n",
      "15/15 [==============================] - 0s 3ms/step - loss: 0.3479 - accuracy: 0.9363 - val_loss: 0.3265 - val_accuracy: 0.9474\n",
      "Epoch 46/100\n",
      "15/15 [==============================] - 0s 3ms/step - loss: 0.3397 - accuracy: 0.9363 - val_loss: 0.3179 - val_accuracy: 0.9474\n",
      "Epoch 47/100\n",
      "15/15 [==============================] - 0s 3ms/step - loss: 0.3315 - accuracy: 0.9407 - val_loss: 0.3093 - val_accuracy: 0.9474\n",
      "Epoch 48/100\n",
      "15/15 [==============================] - 0s 3ms/step - loss: 0.3244 - accuracy: 0.9385 - val_loss: 0.3010 - val_accuracy: 0.9474\n",
      "Epoch 49/100\n",
      "15/15 [==============================] - 0s 3ms/step - loss: 0.3173 - accuracy: 0.9429 - val_loss: 0.2936 - val_accuracy: 0.9561\n",
      "Epoch 50/100\n",
      "15/15 [==============================] - 0s 3ms/step - loss: 0.3102 - accuracy: 0.9407 - val_loss: 0.2862 - val_accuracy: 0.9474\n",
      "Epoch 51/100\n",
      "15/15 [==============================] - 0s 3ms/step - loss: 0.3030 - accuracy: 0.9363 - val_loss: 0.2787 - val_accuracy: 0.9561\n",
      "Epoch 52/100\n",
      "15/15 [==============================] - 0s 3ms/step - loss: 0.2960 - accuracy: 0.9451 - val_loss: 0.2720 - val_accuracy: 0.9561\n",
      "Epoch 53/100\n",
      "15/15 [==============================] - 0s 3ms/step - loss: 0.2902 - accuracy: 0.9407 - val_loss: 0.2659 - val_accuracy: 0.9561\n",
      "Epoch 54/100\n",
      "15/15 [==============================] - 0s 3ms/step - loss: 0.2846 - accuracy: 0.9407 - val_loss: 0.2596 - val_accuracy: 0.9561\n",
      "Epoch 55/100\n",
      "15/15 [==============================] - 0s 3ms/step - loss: 0.2796 - accuracy: 0.9516 - val_loss: 0.2545 - val_accuracy: 0.9649\n",
      "Epoch 56/100\n",
      "15/15 [==============================] - 0s 3ms/step - loss: 0.2739 - accuracy: 0.9516 - val_loss: 0.2481 - val_accuracy: 0.9561\n",
      "Epoch 57/100\n",
      "15/15 [==============================] - 0s 3ms/step - loss: 0.2681 - accuracy: 0.9538 - val_loss: 0.2427 - val_accuracy: 0.9649\n",
      "Epoch 58/100\n",
      "15/15 [==============================] - 0s 3ms/step - loss: 0.2633 - accuracy: 0.9538 - val_loss: 0.2375 - val_accuracy: 0.9649\n",
      "Epoch 59/100\n",
      "15/15 [==============================] - 0s 3ms/step - loss: 0.2586 - accuracy: 0.9538 - val_loss: 0.2324 - val_accuracy: 0.9649\n",
      "Epoch 60/100\n",
      "15/15 [==============================] - 0s 3ms/step - loss: 0.2539 - accuracy: 0.9560 - val_loss: 0.2278 - val_accuracy: 0.9649\n",
      "Epoch 61/100\n",
      "15/15 [==============================] - 0s 3ms/step - loss: 0.2495 - accuracy: 0.9538 - val_loss: 0.2232 - val_accuracy: 0.9649\n",
      "Epoch 62/100\n",
      "15/15 [==============================] - 0s 3ms/step - loss: 0.2453 - accuracy: 0.9560 - val_loss: 0.2186 - val_accuracy: 0.9649\n",
      "Epoch 63/100\n",
      "15/15 [==============================] - 0s 3ms/step - loss: 0.2423 - accuracy: 0.9516 - val_loss: 0.2152 - val_accuracy: 0.9649\n",
      "Epoch 64/100\n",
      "15/15 [==============================] - 0s 3ms/step - loss: 0.2369 - accuracy: 0.9560 - val_loss: 0.2102 - val_accuracy: 0.9649\n",
      "Epoch 65/100\n",
      "15/15 [==============================] - 0s 3ms/step - loss: 0.2329 - accuracy: 0.9560 - val_loss: 0.2061 - val_accuracy: 0.9649\n",
      "Epoch 66/100\n",
      "15/15 [==============================] - 0s 3ms/step - loss: 0.2295 - accuracy: 0.9582 - val_loss: 0.2022 - val_accuracy: 0.9737\n",
      "Epoch 67/100\n",
      "15/15 [==============================] - 0s 3ms/step - loss: 0.2255 - accuracy: 0.9560 - val_loss: 0.1987 - val_accuracy: 0.9649\n",
      "Epoch 68/100\n",
      "15/15 [==============================] - 0s 3ms/step - loss: 0.2218 - accuracy: 0.9582 - val_loss: 0.1951 - val_accuracy: 0.9649\n",
      "Epoch 69/100\n",
      "15/15 [==============================] - 0s 3ms/step - loss: 0.2183 - accuracy: 0.9604 - val_loss: 0.1915 - val_accuracy: 0.9649\n",
      "Epoch 70/100\n",
      "15/15 [==============================] - 0s 3ms/step - loss: 0.2152 - accuracy: 0.9582 - val_loss: 0.1881 - val_accuracy: 0.9649\n",
      "Epoch 71/100\n",
      "15/15 [==============================] - 0s 3ms/step - loss: 0.2116 - accuracy: 0.9604 - val_loss: 0.1848 - val_accuracy: 0.9737\n",
      "Epoch 72/100\n",
      "15/15 [==============================] - 0s 3ms/step - loss: 0.2097 - accuracy: 0.9582 - val_loss: 0.1819 - val_accuracy: 0.9737\n",
      "Epoch 73/100\n",
      "15/15 [==============================] - 0s 3ms/step - loss: 0.2048 - accuracy: 0.9670 - val_loss: 0.1787 - val_accuracy: 0.9737\n",
      "Epoch 74/100\n",
      "15/15 [==============================] - 0s 3ms/step - loss: 0.2021 - accuracy: 0.9626 - val_loss: 0.1757 - val_accuracy: 0.9737\n",
      "Epoch 75/100\n",
      "15/15 [==============================] - 0s 3ms/step - loss: 0.1993 - accuracy: 0.9626 - val_loss: 0.1731 - val_accuracy: 0.9737\n",
      "Epoch 76/100\n",
      "15/15 [==============================] - 0s 3ms/step - loss: 0.1989 - accuracy: 0.9604 - val_loss: 0.1714 - val_accuracy: 0.9649\n",
      "Epoch 77/100\n",
      "15/15 [==============================] - 0s 3ms/step - loss: 0.1929 - accuracy: 0.9626 - val_loss: 0.1676 - val_accuracy: 0.9649\n",
      "Epoch 78/100\n",
      "15/15 [==============================] - 0s 3ms/step - loss: 0.1905 - accuracy: 0.9648 - val_loss: 0.1648 - val_accuracy: 0.9737\n",
      "Epoch 79/100\n",
      "15/15 [==============================] - 0s 3ms/step - loss: 0.1873 - accuracy: 0.9692 - val_loss: 0.1622 - val_accuracy: 0.9737\n",
      "Epoch 80/100\n",
      "15/15 [==============================] - 0s 3ms/step - loss: 0.1847 - accuracy: 0.9692 - val_loss: 0.1596 - val_accuracy: 0.9737\n",
      "Epoch 81/100\n",
      "15/15 [==============================] - 0s 3ms/step - loss: 0.1818 - accuracy: 0.9692 - val_loss: 0.1575 - val_accuracy: 0.9737\n",
      "Epoch 82/100\n",
      "15/15 [==============================] - 0s 3ms/step - loss: 0.1794 - accuracy: 0.9714 - val_loss: 0.1552 - val_accuracy: 0.9737\n",
      "Epoch 83/100\n",
      "15/15 [==============================] - 0s 3ms/step - loss: 0.1771 - accuracy: 0.9692 - val_loss: 0.1529 - val_accuracy: 0.9825\n",
      "Epoch 84/100\n",
      "15/15 [==============================] - 0s 3ms/step - loss: 0.1745 - accuracy: 0.9692 - val_loss: 0.1510 - val_accuracy: 0.9649\n",
      "Epoch 85/100\n",
      "15/15 [==============================] - 0s 3ms/step - loss: 0.1722 - accuracy: 0.9692 - val_loss: 0.1489 - val_accuracy: 0.9649\n",
      "Epoch 86/100\n",
      "15/15 [==============================] - 0s 3ms/step - loss: 0.1700 - accuracy: 0.9692 - val_loss: 0.1468 - val_accuracy: 0.9649\n",
      "Epoch 87/100\n",
      "15/15 [==============================] - 0s 3ms/step - loss: 0.1682 - accuracy: 0.9714 - val_loss: 0.1452 - val_accuracy: 0.9737\n",
      "Epoch 88/100\n",
      "15/15 [==============================] - 0s 3ms/step - loss: 0.1654 - accuracy: 0.9714 - val_loss: 0.1429 - val_accuracy: 0.9737\n",
      "Epoch 89/100\n",
      "15/15 [==============================] - 0s 3ms/step - loss: 0.1633 - accuracy: 0.9692 - val_loss: 0.1410 - val_accuracy: 0.9825\n",
      "Epoch 90/100\n",
      "15/15 [==============================] - 0s 3ms/step - loss: 0.1611 - accuracy: 0.9714 - val_loss: 0.1395 - val_accuracy: 0.9649\n",
      "Epoch 91/100\n",
      "15/15 [==============================] - 0s 3ms/step - loss: 0.1590 - accuracy: 0.9714 - val_loss: 0.1375 - val_accuracy: 0.9825\n",
      "Epoch 92/100\n",
      "15/15 [==============================] - 0s 3ms/step - loss: 0.1574 - accuracy: 0.9758 - val_loss: 0.1361 - val_accuracy: 0.9737\n",
      "Epoch 93/100\n",
      "15/15 [==============================] - 0s 3ms/step - loss: 0.1554 - accuracy: 0.9714 - val_loss: 0.1342 - val_accuracy: 0.9737\n",
      "Epoch 94/100\n",
      "15/15 [==============================] - 0s 3ms/step - loss: 0.1530 - accuracy: 0.9736 - val_loss: 0.1327 - val_accuracy: 0.9737\n",
      "Epoch 95/100\n",
      "15/15 [==============================] - 0s 3ms/step - loss: 0.1510 - accuracy: 0.9714 - val_loss: 0.1310 - val_accuracy: 0.9825\n",
      "Epoch 96/100\n",
      "15/15 [==============================] - 0s 3ms/step - loss: 0.1492 - accuracy: 0.9736 - val_loss: 0.1295 - val_accuracy: 0.9737\n",
      "Epoch 97/100\n",
      "15/15 [==============================] - 0s 3ms/step - loss: 0.1474 - accuracy: 0.9736 - val_loss: 0.1280 - val_accuracy: 0.9737\n",
      "Epoch 98/100\n",
      "15/15 [==============================] - 0s 3ms/step - loss: 0.1452 - accuracy: 0.9714 - val_loss: 0.1268 - val_accuracy: 0.9825\n",
      "Epoch 99/100\n",
      "15/15 [==============================] - 0s 4ms/step - loss: 0.1450 - accuracy: 0.9736 - val_loss: 0.1253 - val_accuracy: 0.9737\n",
      "Epoch 100/100\n",
      "15/15 [==============================] - 0s 3ms/step - loss: 0.1420 - accuracy: 0.9736 - val_loss: 0.1241 - val_accuracy: 0.9737\n"
     ]
    },
    {
     "data": {
      "text/plain": [
       "<keras.src.callbacks.History at 0x2b70877c9d0>"
      ]
     },
     "execution_count": 7,
     "metadata": {},
     "output_type": "execute_result"
    }
   ],
   "source": [
    "model.fit(X_train, y_train, epochs=100, batch_size=32, validation_data=(X_test, y_test))"
   ]
  },
  {
   "cell_type": "markdown",
   "metadata": {},
   "source": [
    "* Evaluate the model"
   ]
  },
  {
   "cell_type": "code",
   "execution_count": 8,
   "metadata": {},
   "outputs": [
    {
     "name": "stdout",
     "output_type": "stream",
     "text": [
      "4/4 [==============================] - 0s 2ms/step - loss: 0.1241 - accuracy: 0.9737\n",
      "Test loss: 0.12409792095422745\n",
      "Test accuracy: 0.9736841917037964\n"
     ]
    }
   ],
   "source": [
    "loss, accuracy = model.evaluate(X_test, y_test)\n",
    "print('Test loss:', loss)\n",
    "print('Test accuracy:', accuracy)"
   ]
  },
  {
   "cell_type": "markdown",
   "metadata": {},
   "source": [
    "* Generate predictions"
   ]
  },
  {
   "cell_type": "code",
   "execution_count": 9,
   "metadata": {},
   "outputs": [
    {
     "name": "stdout",
     "output_type": "stream",
     "text": [
      "4/4 [==============================] - 0s 1ms/step\n",
      "Predictions: [[1]\n",
      " [0]\n",
      " [0]\n",
      " [1]\n",
      " [1]\n",
      " [0]\n",
      " [0]\n",
      " [0]\n",
      " [1]\n",
      " [1]\n",
      " [1]\n",
      " [0]\n",
      " [1]\n",
      " [0]\n",
      " [1]\n",
      " [0]\n",
      " [1]\n",
      " [1]\n",
      " [1]\n",
      " [0]\n",
      " [1]\n",
      " [1]\n",
      " [0]\n",
      " [1]\n",
      " [1]\n",
      " [1]\n",
      " [1]\n",
      " [1]\n",
      " [1]\n",
      " [0]\n",
      " [1]\n",
      " [1]\n",
      " [1]\n",
      " [1]\n",
      " [1]\n",
      " [1]\n",
      " [0]\n",
      " [1]\n",
      " [0]\n",
      " [1]\n",
      " [1]\n",
      " [0]\n",
      " [1]\n",
      " [1]\n",
      " [1]\n",
      " [1]\n",
      " [1]\n",
      " [1]\n",
      " [1]\n",
      " [1]\n",
      " [0]\n",
      " [0]\n",
      " [1]\n",
      " [1]\n",
      " [1]\n",
      " [1]\n",
      " [1]\n",
      " [0]\n",
      " [0]\n",
      " [1]\n",
      " [1]\n",
      " [0]\n",
      " [0]\n",
      " [1]\n",
      " [1]\n",
      " [1]\n",
      " [0]\n",
      " [0]\n",
      " [1]\n",
      " [1]\n",
      " [0]\n",
      " [0]\n",
      " [1]\n",
      " [0]\n",
      " [1]\n",
      " [1]\n",
      " [1]\n",
      " [1]\n",
      " [1]\n",
      " [1]\n",
      " [0]\n",
      " [1]\n",
      " [0]\n",
      " [0]\n",
      " [0]\n",
      " [0]\n",
      " [0]\n",
      " [0]\n",
      " [1]\n",
      " [1]\n",
      " [1]\n",
      " [1]\n",
      " [1]\n",
      " [1]\n",
      " [1]\n",
      " [1]\n",
      " [0]\n",
      " [0]\n",
      " [1]\n",
      " [0]\n",
      " [0]\n",
      " [1]\n",
      " [0]\n",
      " [0]\n",
      " [1]\n",
      " [1]\n",
      " [1]\n",
      " [0]\n",
      " [1]\n",
      " [1]\n",
      " [0]\n",
      " [1]\n",
      " [0]\n",
      " [0]]\n"
     ]
    }
   ],
   "source": [
    "y_pred = (model.predict(X_test) > 0.5).astype(\"int32\")\n",
    "\n",
    "print('Predictions:', y_pred)"
   ]
  },
  {
   "cell_type": "markdown",
   "metadata": {},
   "source": [
    "* Generate the confusion matrix\n",
    "* Print the confusion matrix"
   ]
  },
  {
   "cell_type": "code",
   "execution_count": 10,
   "metadata": {},
   "outputs": [
    {
     "name": "stdout",
     "output_type": "stream",
     "text": [
      "[[41  2]\n",
      " [ 1 70]]\n"
     ]
    }
   ],
   "source": [
    "cm = confusion_matrix(y_test, y_pred)\n",
    "print(cm)"
   ]
  },
  {
   "cell_type": "markdown",
   "metadata": {},
   "source": [
    "* Plot the confusion matrix"
   ]
  },
  {
   "cell_type": "code",
   "execution_count": 11,
   "metadata": {},
   "outputs": [
    {
     "data": {
      "image/png": "[encoded data removed]",
      "text/plain": [
       "<Figure size 640x480 with 2 Axes>"
      ]
     },
     "metadata": {},
     "output_type": "display_data"
    }
   ],
   "source": [
    "cmd = ConfusionMatrixDisplay(cm, display_labels=['Benign', 'Malignant'])\n",
    "cmd.plot()\n",
    "plt.show()"
   ]
  },
  {
   "cell_type": "markdown",
   "metadata": {},
   "source": [
    "* Get the Precision, which is the proportion of positive predictions that are actually positive"
   ]
  },
  {
   "cell_type": "code",
   "execution_count": 12,
   "metadata": {},
   "outputs": [
    {
     "name": "stdout",
     "output_type": "stream",
     "text": [
      "Precision score: 0.9722222222222222\n"
     ]
    }
   ],
   "source": [
    "precision = precision_score(y_test, y_pred)\n",
    "print('Precision score:', precision)"
   ]
  },
  {
   "cell_type": "markdown",
   "metadata": {},
   "source": [
    "* Get the F1 score, which is the harmonic mean or precision and recall that measures the balance between them\n",
    "* Get the recall score, which os the proportion of positive samples that are correctly predicted"
   ]
  },
  {
   "cell_type": "code",
   "execution_count": 13,
   "metadata": {},
   "outputs": [
    {
     "name": "stdout",
     "output_type": "stream",
     "text": [
      "*----------------------------*\n",
      "Recall:  0.9859154929577465\n",
      "*----------------------------*\n",
      "f1:  0.979020979020979\n",
      "*----------------------------*\n"
     ]
    }
   ],
   "source": [
    "recall = recall_score(y_test, y_pred)\n",
    "print(\"*----------------------------*\")\n",
    "print(\"Recall: \", recall)\n",
    "f1 = f1_score(y_test, y_pred)\n",
    "print(\"*----------------------------*\")\n",
    "print(\"f1: \", f1)\n",
    "print(\"*----------------------------*\")\n"
   ]
  },
  {
   "cell_type": "markdown",
   "metadata": {},
   "source": [
    "# Conclusions from MLP\n",
    "\n",
    "Based on these results for the confusion matrix, I would conclude that the classification model is very accurate and has high performance on the test set.\n",
    "\n",
    "# Results analysis\n",
    "* Accuracy 0.973 this means that the model predicted correctly 97.37% of the test samples\n",
    "* Precision \n",
    "    * 0.9722 for positive (malignant) calculated by the formula TP/(TP + FP) giving a 97.22% of correctly predicted malignant samples\n",
    "    * 0.9762 for negative (benignant) calculated by the formula TN/(TN + FN) giving a 97.62% of correctly predicted benign samples\n",
    "* Recall \n",
    "    * 0.9859 Proportion of positive samples (malignant) that are correctly determined by the formula TP/(TP + FN) meaning 98.58% correct predictions\n",
    "    * 0.9535 Proportion of negative samples (benign)    that are correctly determined by the formula FN/(FN + TN) meaning 95.35% correct predictions\n",
    "* F1 score: The harmonic mean of precision and recall that measures the balance between them calculated by: 2 * (precision * recall) / (precision + recall)\n",
    "    * positive (malignant): 0.9790 which means there's a high balance between precision and recall for the malignan samples\n",
    "    * negative (benign):    0.9648 which means there's a high balance between precision and recall for the benign   samples\n",
    "\n",
    "* There's a very good overall score for the MLP approach to this dataset\n"
   ]
  }
 ],
 "metadata": {
  "kernelspec": {
   "display_name": "Python 3",
   "language": "python",
   "name": "python3"
  },
  "language_info": {
   "codemirror_mode": {
    "name": "ipython",
    "version": 3
   },
   "file_extension": ".py",
   "mimetype": "text/x-python",
   "name": "python",
   "nbconvert_exporter": "python",
   "pygments_lexer": "ipython3",
   "version": "3.8.0"
  }
 },
 "nbformat": 4,
 "nbformat_minor": 2
}
