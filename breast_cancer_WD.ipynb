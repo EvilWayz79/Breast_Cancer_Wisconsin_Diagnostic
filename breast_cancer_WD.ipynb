{
 "cells": [
  {
   "cell_type": "markdown",
   "metadata": {},
   "source": [
    "* Import modules\n",
    "* Import dataset from sklearn.datasets -- if you want to use the online version of the dataset "
   ]
  },
  {
   "cell_type": "code",
   "execution_count": 101,
   "metadata": {},
   "outputs": [],
   "source": [
    "import keras\n",
    "import numpy as np\n",
    "import pandas as pd\n",
    "#from sklearn.datasets import load_breast_cancer # online dataset\n",
    "from sklearn.model_selection import train_test_split\n",
    "from sklearn.preprocessing import MinMaxScaler\n",
    "from sklearn.metrics import confusion_matrix, ConfusionMatrixDisplay\n",
    "import matplotlib.pyplot as plt\n",
    "from sklearn.metrics import f1_score\n",
    "from sklearn.metrics import recall_score\n",
    "from sklearn.metrics import precision_score"
   ]
  },
  {
   "cell_type": "markdown",
   "metadata": {},
   "source": [
    "* Load dataset\n",
    "* Data process\n",
    "* Check results"
   ]
  },
  {
   "cell_type": "code",
   "execution_count": 102,
   "metadata": {},
   "outputs": [
    {
     "name": "stdout",
     "output_type": "stream",
     "text": [
      "[[8.4230200e+05 1.7990000e+01 1.0380000e+01 ... 2.6540000e-01\n",
      "  4.6010000e-01 1.1890000e-01]\n",
      " [8.4251700e+05 2.0570000e+01 1.7770000e+01 ... 1.8600000e-01\n",
      "  2.7500000e-01 8.9020000e-02]\n",
      " [8.4300903e+07 1.9690000e+01 2.1250000e+01 ... 2.4300000e-01\n",
      "  3.6130000e-01 8.7580000e-02]\n",
      " ...\n",
      " [9.2695400e+05 1.6600000e+01 2.8080000e+01 ... 1.4180000e-01\n",
      "  2.2180000e-01 7.8200000e-02]\n",
      " [9.2724100e+05 2.0600000e+01 2.9330000e+01 ... 2.6500000e-01\n",
      "  4.0870000e-01 1.2400000e-01]\n",
      " [9.2751000e+04 7.7600000e+00 2.4540000e+01 ... 0.0000000e+00\n",
      "  2.8710000e-01 7.0390000e-02]]\n",
      "------------------------------------------------------\n",
      "[0 0 0 0 0 0 0 0 0 0 0 0 0 0 0 0 0 0 0 1 1 1 0 0 0 0 0 0 0 0 0 0 0 0 0 0 0\n",
      " 1 0 0 0 0 0 0 0 0 1 0 1 1 1 1 1 0 0 1 0 0 1 1 1 1 0 1 0 0 1 1 1 1 0 1 0 0\n",
      " 1 0 1 0 0 1 1 1 0 0 1 0 0 0 1 1 1 0 1 1 0 0 1 1 1 0 0 1 1 1 1 0 1 1 0 1 1\n",
      " 1 1 1 1 1 1 0 0 0 1 0 0 1 1 1 0 0 1 0 1 0 0 1 0 0 1 1 0 1 1 0 1 1 1 1 0 1\n",
      " 1 1 1 1 1 1 1 1 0 1 1 1 1 0 0 1 0 1 1 0 0 1 1 0 0 1 1 1 1 0 1 1 0 0 0 1 0\n",
      " 1 0 1 1 1 0 1 1 0 0 1 0 0 0 0 1 0 0 0 1 0 1 0 1 1 0 1 0 0 0 0 1 1 0 0 1 1\n",
      " 1 0 1 1 1 1 1 0 0 1 1 0 1 1 0 0 1 0 1 1 1 1 0 1 1 1 1 1 0 1 0 0 0 0 0 0 0\n",
      " 0 0 0 0 0 0 0 1 1 1 1 1 1 0 1 0 1 1 0 1 1 0 1 0 0 1 1 1 1 1 1 1 1 1 1 1 1\n",
      " 1 0 1 1 0 1 0 1 1 1 1 1 1 1 1 1 1 1 1 1 1 0 1 1 1 0 1 0 1 1 1 1 0 0 0 1 1\n",
      " 1 1 0 1 0 1 0 1 1 1 0 1 1 1 1 1 1 1 0 0 0 1 1 1 1 1 1 1 1 1 1 1 0 0 1 0 0\n",
      " 0 1 0 0 1 1 1 1 1 0 1 1 1 1 1 0 1 1 1 0 1 1 0 0 1 1 1 1 1 1 0 1 1 1 1 1 1\n",
      " 1 0 1 1 1 1 1 0 1 1 0 1 1 1 1 1 1 1 1 1 1 1 1 0 1 0 0 1 0 1 1 1 1 1 0 1 1\n",
      " 0 1 0 1 1 0 1 0 1 1 1 1 1 1 1 1 0 0 1 1 1 1 1 1 0 1 1 1 1 1 1 1 1 1 1 0 1\n",
      " 1 1 1 1 1 1 0 1 0 1 1 0 1 1 1 1 1 0 0 1 0 1 0 1 1 1 1 1 0 1 1 0 1 0 1 0 0\n",
      " 1 1 1 0 1 1 1 1 1 1 1 1 1 1 1 0 1 0 0 1 1 1 1 1 1 1 1 1 1 1 1 1 1 1 1 1 1\n",
      " 1 1 1 1 1 1 1 0 0 0 0 0 0 1]\n",
      "------------------------------------------------------\n",
      "------------------------------------------------------\n",
      "id                         0\n",
      "diagnosis                  0\n",
      "radius_mean                0\n",
      "texture_mean               0\n",
      "perimeter_mean             0\n",
      "area_mean                  0\n",
      "smoothness_mean            0\n",
      "compactness_mean           0\n",
      "concavity_mean             0\n",
      "concave points_mean        0\n",
      "symmetry_mean              0\n",
      "fractal_dimension_mean     0\n",
      "radius_se                  0\n",
      "texture_se                 0\n",
      "perimeter_se               0\n",
      "area_se                    0\n",
      "smoothness_se              0\n",
      "compactness_se             0\n",
      "concavity_se               0\n",
      "concave points_se          0\n",
      "symmetry_se                0\n",
      "fractal_dimension_se       0\n",
      "radius_worst               0\n",
      "texture_worst              0\n",
      "perimeter_worst            0\n",
      "area_worst                 0\n",
      "smoothness_worst           0\n",
      "compactness_worst          0\n",
      "concavity_worst            0\n",
      "concave points_worst       0\n",
      "symmetry_worst             0\n",
      "fractal_dimension_worst    0\n",
      "dtype: int64\n",
      "           id  diagnosis  radius_mean  texture_mean  perimeter_mean  \\\n",
      "0      842302          0        17.99         10.38          122.80   \n",
      "1      842517          0        20.57         17.77          132.90   \n",
      "2    84300903          0        19.69         21.25          130.00   \n",
      "3    84348301          0        11.42         20.38           77.58   \n",
      "4    84358402          0        20.29         14.34          135.10   \n",
      "..        ...        ...          ...           ...             ...   \n",
      "564    926424          0        21.56         22.39          142.00   \n",
      "565    926682          0        20.13         28.25          131.20   \n",
      "566    926954          0        16.60         28.08          108.30   \n",
      "567    927241          0        20.60         29.33          140.10   \n",
      "568     92751          1         7.76         24.54           47.92   \n",
      "\n",
      "     area_mean  smoothness_mean  compactness_mean  concavity_mean  \\\n",
      "0       1001.0          0.11840           0.27760         0.30010   \n",
      "1       1326.0          0.08474           0.07864         0.08690   \n",
      "2       1203.0          0.10960           0.15990         0.19740   \n",
      "3        386.1          0.14250           0.28390         0.24140   \n",
      "4       1297.0          0.10030           0.13280         0.19800   \n",
      "..         ...              ...               ...             ...   \n",
      "564     1479.0          0.11100           0.11590         0.24390   \n",
      "565     1261.0          0.09780           0.10340         0.14400   \n",
      "566      858.1          0.08455           0.10230         0.09251   \n",
      "567     1265.0          0.11780           0.27700         0.35140   \n",
      "568      181.0          0.05263           0.04362         0.00000   \n",
      "\n",
      "     concave points_mean  ...  radius_worst  texture_worst  perimeter_worst  \\\n",
      "0                0.14710  ...        25.380          17.33           184.60   \n",
      "1                0.07017  ...        24.990          23.41           158.80   \n",
      "2                0.12790  ...        23.570          25.53           152.50   \n",
      "3                0.10520  ...        14.910          26.50            98.87   \n",
      "4                0.10430  ...        22.540          16.67           152.20   \n",
      "..                   ...  ...           ...            ...              ...   \n",
      "564              0.13890  ...        25.450          26.40           166.10   \n",
      "565              0.09791  ...        23.690          38.25           155.00   \n",
      "566              0.05302  ...        18.980          34.12           126.70   \n",
      "567              0.15200  ...        25.740          39.42           184.60   \n",
      "568              0.00000  ...         9.456          30.37            59.16   \n",
      "\n",
      "     area_worst  smoothness_worst  compactness_worst  concavity_worst  \\\n",
      "0        2019.0           0.16220            0.66560           0.7119   \n",
      "1        1956.0           0.12380            0.18660           0.2416   \n",
      "2        1709.0           0.14440            0.42450           0.4504   \n",
      "3         567.7           0.20980            0.86630           0.6869   \n",
      "4        1575.0           0.13740            0.20500           0.4000   \n",
      "..          ...               ...                ...              ...   \n",
      "564      2027.0           0.14100            0.21130           0.4107   \n",
      "565      1731.0           0.11660            0.19220           0.3215   \n",
      "566      1124.0           0.11390            0.30940           0.3403   \n",
      "567      1821.0           0.16500            0.86810           0.9387   \n",
      "568       268.6           0.08996            0.06444           0.0000   \n",
      "\n",
      "     concave points_worst  symmetry_worst  fractal_dimension_worst  \n",
      "0                  0.2654          0.4601                  0.11890  \n",
      "1                  0.1860          0.2750                  0.08902  \n",
      "2                  0.2430          0.3613                  0.08758  \n",
      "3                  0.2575          0.6638                  0.17300  \n",
      "4                  0.1625          0.2364                  0.07678  \n",
      "..                    ...             ...                      ...  \n",
      "564                0.2216          0.2060                  0.07115  \n",
      "565                0.1628          0.2572                  0.06637  \n",
      "566                0.1418          0.2218                  0.07820  \n",
      "567                0.2650          0.4087                  0.12400  \n",
      "568                0.0000          0.2871                  0.07039  \n",
      "\n",
      "[569 rows x 32 columns]\n"
     ]
    }
   ],
   "source": [
    "'''\n",
    "# online dataset\n",
    "data = load_breast_cancer()\n",
    "X = data.data\n",
    "y = data.target\n",
    "'''\n",
    "\n",
    "data = pd.read_csv('.data/data.csv')\n",
    "\n",
    "#delete all NaN column \n",
    "data.dropna(how='all', axis=1, inplace=True)\n",
    "\n",
    "# replace M with 0 and B with 1 for binary analysis\n",
    "data['diagnosis'] = (data['diagnosis'] == 'B').astype(int)\n",
    "\n",
    "X = data.drop(['diagnosis'], axis=1).values\n",
    "y = data['diagnosis'].values\n",
    "\n",
    "print(X)\n",
    "print('------------------------------------------------------')\n",
    "print(y)\n",
    "\n",
    "print('------------------------------------------------------')\n",
    "print('------------------------------------------------------')\n",
    "\n",
    "na_count = data.isna().sum()\n",
    "print(na_count)\n",
    "\n",
    "print(data)\n",
    "\n"
   ]
  },
  {
   "cell_type": "markdown",
   "metadata": {},
   "source": [
    "* Split the data into train and test subsets"
   ]
  },
  {
   "cell_type": "code",
   "execution_count": 103,
   "metadata": {},
   "outputs": [
    {
     "name": "stdout",
     "output_type": "stream",
     "text": [
      "TRAIN\n",
      "[[8.594710e+05 9.029000e+00 1.733000e+01 ... 1.750000e-01 4.228000e-01\n",
      "  1.175000e-01]\n",
      " [8.735930e+05 2.109000e+01 2.657000e+01 ... 2.903000e-01 4.098000e-01\n",
      "  1.284000e-01]\n",
      " [8.591960e+05 9.173000e+00 1.386000e+01 ... 5.087000e-02 3.282000e-01\n",
      "  8.490000e-02]\n",
      " ...\n",
      " [8.910721e+06 1.429000e+01 1.682000e+01 ... 3.333000e-02 2.458000e-01\n",
      "  6.120000e-02]\n",
      " [9.084890e+05 1.398000e+01 1.962000e+01 ... 1.827000e-01 3.179000e-01\n",
      "  1.055000e-01]\n",
      " [8.629650e+05 1.218000e+01 2.052000e+01 ... 7.431000e-02 2.694000e-01\n",
      "  6.878000e-02]]\n",
      "TEST\n",
      "[[8.7930000e+04 1.2470000e+01 1.8600000e+01 ... 1.0150000e-01\n",
      "  3.0140000e-01 8.7500000e-02]\n",
      " [8.5957500e+05 1.8940000e+01 2.1310000e+01 ... 1.7890000e-01\n",
      "  2.5510000e-01 6.5890000e-02]\n",
      " [8.6700000e+03 1.5460000e+01 1.9480000e+01 ... 1.5140000e-01\n",
      "  2.8370000e-01 8.0190000e-02]\n",
      " ...\n",
      " [8.8468900e+05 1.1520000e+01 1.4930000e+01 ... 9.6080000e-02\n",
      "  2.6640000e-01 7.8090000e-02]\n",
      " [8.8327000e+05 1.4220000e+01 2.7850000e+01 ... 8.2190000e-02\n",
      "  1.8900000e-01 7.7960000e-02]\n",
      " [8.8995002e+07 2.0730000e+01 3.1120000e+01 ... 1.6590000e-01\n",
      "  2.8680000e-01 8.2180000e-02]]\n"
     ]
    }
   ],
   "source": [
    "X_train, X_test, y_train, y_test = train_test_split(X, y, test_size=0.2, random_state=42)\n",
    "print(\"TRAIN\")\n",
    "print(X_train)\n",
    "print(\"TEST\")\n",
    "print(X_test)"
   ]
  },
  {
   "cell_type": "markdown",
   "metadata": {},
   "source": [
    "* Normalize the features in order for the model to have better performance and avoid bias by features that have larger values.\n",
    "* Set up data in values between 0 and 1"
   ]
  },
  {
   "cell_type": "code",
   "execution_count": 104,
   "metadata": {},
   "outputs": [
    {
     "name": "stdout",
     "output_type": "stream",
     "text": [
      "TRAIN\n",
      "[[9.33333902e-04 6.55272051e-02 2.57693608e-01 ... 6.01374570e-01\n",
      "  5.24935935e-01 5.29501526e-01]\n",
      " [9.48830248e-04 6.56202556e-01 5.70172472e-01 ... 9.97594502e-01\n",
      "  4.99310073e-01 6.21905731e-01]\n",
      " [9.33032139e-04 7.25794603e-02 1.40344944e-01 ... 1.74810997e-01\n",
      "  3.38458506e-01 2.53136656e-01]\n",
      " ...\n",
      " [9.76812774e-03 3.23179392e-01 2.40446398e-01 ... 1.14536082e-01\n",
      "  1.76029963e-01 5.22210919e-02]\n",
      " [9.87122310e-04 3.07997453e-01 3.35136963e-01 ... 6.27835052e-01\n",
      "  3.18154938e-01 4.27772126e-01]\n",
      " [9.37167936e-04 2.19844263e-01 3.65573216e-01 ... 2.55360825e-01\n",
      "  2.22550759e-01 1.16480163e-01]]\n",
      "TEST\n",
      "[[ 8.67068970e-05  2.34046721e-01  3.00642543e-01 ...  3.48797251e-01\n",
      "   2.85629805e-01  2.75178026e-01]\n",
      " [ 9.33448023e-04  5.50908468e-01  3.92289483e-01 ...  6.14776632e-01\n",
      "   1.94362310e-01  9.19803323e-02]\n",
      " [-2.66648645e-07  3.80478966e-01  3.30402435e-01 ...  5.20274914e-01\n",
      "   2.50739208e-01  2.13207867e-01]\n",
      " ...\n",
      " [ 9.61006105e-04  1.87521426e-01  1.76530267e-01 ...  3.30171821e-01\n",
      "   2.16637098e-01  1.95405222e-01]\n",
      " [ 9.59449009e-04  3.19751212e-01  6.13459587e-01 ...  2.82439863e-01\n",
      "   6.40646560e-02  1.94303154e-01]\n",
      " [ 9.76461730e-02  6.38571918e-01  7.24044640e-01 ...  5.70103093e-01\n",
      "   2.56849990e-01  2.30077993e-01]]\n"
     ]
    }
   ],
   "source": [
    "scaler = MinMaxScaler()\n",
    "X_train = scaler.fit_transform(X_train)\n",
    "X_test = scaler.transform(X_test)\n",
    "\n",
    "# sneak peek data\n",
    "print(\"TRAIN\")\n",
    "print(X_train)\n",
    "print(\"TEST\")\n",
    "print(X_test)\n"
   ]
  },
  {
   "cell_type": "markdown",
   "metadata": {},
   "source": [
    "# Define the MLP (Multi Layer Perceptron) model\n",
    "\n",
    "* The choice of the number of layers, neurons, activation functions, and hyperparameters can affect the performance and generalization of the model. I decided on these values based  on some common practices and heuristics for MLP design, such as:\n",
    "    * Using a sigmoid activation function for the output layer, since this is a binary classification problem.\n",
    "    * Using a sigmoid activation function for the hidden layers, since this is a simple and smooth nonlinear function that can approximate any function.\n",
    "    * Using a binary cross-entropy loss function, since this is a suitable loss for binary classification problems.\n",
    "    * Using an adam optimizer, since this is a popular and efficient gradient-based optimization algorithm that can adapt the learning rate dynamically.\n",
    "    * Using a small number of hidden layers (three) and neurons (16, 8, and 4), since this is a relatively small and low-dimensional dataset (569 samples and 30 features), and a complex model might overfit the data.\n",
    "    * Using a validation split of 0.2, since this is a reasonable proportion of the data to use for evaluating the model during training.\n",
    "    * Using 100 epochs and 32 batch size, since these are typical values that can allow the model to converge without taking too long.\n"
   ]
  },
  {
   "cell_type": "code",
   "execution_count": 105,
   "metadata": {},
   "outputs": [],
   "source": [
    "model = keras.models.Sequential()\n",
    "model.add(keras.layers.Dense(16, activation='sigmoid', input_shape=(31,)))\n",
    "model.add(keras.layers.Dense(8, activation='sigmoid'))\n",
    "model.add(keras.layers.Dense(4, activation='sigmoid'))\n",
    "model.add(keras.layers.Dense(1, activation='sigmoid'))"
   ]
  },
  {
   "cell_type": "markdown",
   "metadata": {},
   "source": [
    "* Compile the model"
   ]
  },
  {
   "cell_type": "code",
   "execution_count": 106,
   "metadata": {},
   "outputs": [],
   "source": [
    "model.compile(loss='binary_crossentropy', optimizer='adam', metrics=['accuracy'])"
   ]
  },
  {
   "cell_type": "markdown",
   "metadata": {},
   "source": [
    "* Train the model"
   ]
  },
  {
   "cell_type": "code",
   "execution_count": 107,
   "metadata": {},
   "outputs": [
    {
     "name": "stdout",
     "output_type": "stream",
     "text": [
      "Epoch 1/100\n",
      "15/15 [==============================] - 1s 11ms/step - loss: 0.8609 - accuracy: 0.3714 - val_loss: 0.8399 - val_accuracy: 0.3772\n",
      "Epoch 2/100\n",
      "15/15 [==============================] - 0s 3ms/step - loss: 0.8313 - accuracy: 0.3714 - val_loss: 0.8131 - val_accuracy: 0.3772\n",
      "Epoch 3/100\n",
      "15/15 [==============================] - 0s 3ms/step - loss: 0.8056 - accuracy: 0.3714 - val_loss: 0.7895 - val_accuracy: 0.3772\n",
      "Epoch 4/100\n",
      "15/15 [==============================] - 0s 3ms/step - loss: 0.7839 - accuracy: 0.3714 - val_loss: 0.7696 - val_accuracy: 0.3772\n",
      "Epoch 5/100\n",
      "15/15 [==============================] - 0s 3ms/step - loss: 0.7648 - accuracy: 0.3714 - val_loss: 0.7535 - val_accuracy: 0.3772\n",
      "Epoch 6/100\n",
      "15/15 [==============================] - 0s 3ms/step - loss: 0.7491 - accuracy: 0.3714 - val_loss: 0.7396 - val_accuracy: 0.3772\n",
      "Epoch 7/100\n",
      "15/15 [==============================] - 0s 3ms/step - loss: 0.7360 - accuracy: 0.3714 - val_loss: 0.7267 - val_accuracy: 0.3772\n",
      "Epoch 8/100\n",
      "15/15 [==============================] - 0s 3ms/step - loss: 0.7240 - accuracy: 0.3714 - val_loss: 0.7167 - val_accuracy: 0.3772\n",
      "Epoch 9/100\n",
      "15/15 [==============================] - 0s 3ms/step - loss: 0.7142 - accuracy: 0.3714 - val_loss: 0.7087 - val_accuracy: 0.3772\n",
      "Epoch 10/100\n",
      "15/15 [==============================] - 0s 4ms/step - loss: 0.7060 - accuracy: 0.3714 - val_loss: 0.7006 - val_accuracy: 0.3772\n",
      "Epoch 11/100\n",
      "15/15 [==============================] - 0s 3ms/step - loss: 0.6980 - accuracy: 0.3714 - val_loss: 0.6941 - val_accuracy: 0.3772\n",
      "Epoch 12/100\n",
      "15/15 [==============================] - 0s 3ms/step - loss: 0.6920 - accuracy: 0.5319 - val_loss: 0.6882 - val_accuracy: 0.6228\n",
      "Epoch 13/100\n",
      "15/15 [==============================] - 0s 3ms/step - loss: 0.6862 - accuracy: 0.6286 - val_loss: 0.6839 - val_accuracy: 0.6228\n",
      "Epoch 14/100\n",
      "15/15 [==============================] - 0s 3ms/step - loss: 0.6817 - accuracy: 0.6286 - val_loss: 0.6799 - val_accuracy: 0.6228\n",
      "Epoch 15/100\n",
      "15/15 [==============================] - 0s 3ms/step - loss: 0.6776 - accuracy: 0.6286 - val_loss: 0.6759 - val_accuracy: 0.6228\n",
      "Epoch 16/100\n",
      "15/15 [==============================] - 0s 3ms/step - loss: 0.6739 - accuracy: 0.6286 - val_loss: 0.6725 - val_accuracy: 0.6228\n",
      "Epoch 17/100\n",
      "15/15 [==============================] - 0s 3ms/step - loss: 0.6707 - accuracy: 0.6286 - val_loss: 0.6701 - val_accuracy: 0.6228\n",
      "Epoch 18/100\n",
      "15/15 [==============================] - 0s 3ms/step - loss: 0.6682 - accuracy: 0.6286 - val_loss: 0.6676 - val_accuracy: 0.6228\n",
      "Epoch 19/100\n",
      "15/15 [==============================] - 0s 3ms/step - loss: 0.6657 - accuracy: 0.6286 - val_loss: 0.6653 - val_accuracy: 0.6228\n",
      "Epoch 20/100\n",
      "15/15 [==============================] - 0s 3ms/step - loss: 0.6633 - accuracy: 0.6286 - val_loss: 0.6627 - val_accuracy: 0.6228\n",
      "Epoch 21/100\n",
      "15/15 [==============================] - 0s 3ms/step - loss: 0.6609 - accuracy: 0.6286 - val_loss: 0.6604 - val_accuracy: 0.6228\n",
      "Epoch 22/100\n",
      "15/15 [==============================] - 0s 3ms/step - loss: 0.6584 - accuracy: 0.6286 - val_loss: 0.6583 - val_accuracy: 0.6228\n",
      "Epoch 23/100\n",
      "15/15 [==============================] - 0s 3ms/step - loss: 0.6564 - accuracy: 0.6286 - val_loss: 0.6559 - val_accuracy: 0.6228\n",
      "Epoch 24/100\n",
      "15/15 [==============================] - 0s 3ms/step - loss: 0.6540 - accuracy: 0.6286 - val_loss: 0.6536 - val_accuracy: 0.6228\n",
      "Epoch 25/100\n",
      "15/15 [==============================] - 0s 3ms/step - loss: 0.6518 - accuracy: 0.6286 - val_loss: 0.6514 - val_accuracy: 0.6228\n",
      "Epoch 26/100\n",
      "15/15 [==============================] - 0s 3ms/step - loss: 0.6497 - accuracy: 0.6286 - val_loss: 0.6491 - val_accuracy: 0.6228\n",
      "Epoch 27/100\n",
      "15/15 [==============================] - 0s 3ms/step - loss: 0.6474 - accuracy: 0.6286 - val_loss: 0.6466 - val_accuracy: 0.6228\n",
      "Epoch 28/100\n",
      "15/15 [==============================] - 0s 3ms/step - loss: 0.6450 - accuracy: 0.6286 - val_loss: 0.6442 - val_accuracy: 0.6228\n",
      "Epoch 29/100\n",
      "15/15 [==============================] - 0s 3ms/step - loss: 0.6426 - accuracy: 0.6286 - val_loss: 0.6417 - val_accuracy: 0.6228\n",
      "Epoch 30/100\n",
      "15/15 [==============================] - 0s 3ms/step - loss: 0.6400 - accuracy: 0.6286 - val_loss: 0.6390 - val_accuracy: 0.6228\n",
      "Epoch 31/100\n",
      "15/15 [==============================] - 0s 3ms/step - loss: 0.6373 - accuracy: 0.6286 - val_loss: 0.6360 - val_accuracy: 0.6228\n",
      "Epoch 32/100\n",
      "15/15 [==============================] - 0s 3ms/step - loss: 0.6344 - accuracy: 0.6286 - val_loss: 0.6329 - val_accuracy: 0.6228\n",
      "Epoch 33/100\n",
      "15/15 [==============================] - 0s 3ms/step - loss: 0.6314 - accuracy: 0.6286 - val_loss: 0.6296 - val_accuracy: 0.6228\n",
      "Epoch 34/100\n",
      "15/15 [==============================] - 0s 3ms/step - loss: 0.6281 - accuracy: 0.6286 - val_loss: 0.6259 - val_accuracy: 0.6228\n",
      "Epoch 35/100\n",
      "15/15 [==============================] - 0s 3ms/step - loss: 0.6245 - accuracy: 0.6286 - val_loss: 0.6220 - val_accuracy: 0.6228\n",
      "Epoch 36/100\n",
      "15/15 [==============================] - 0s 3ms/step - loss: 0.6206 - accuracy: 0.6286 - val_loss: 0.6178 - val_accuracy: 0.6228\n",
      "Epoch 37/100\n",
      "15/15 [==============================] - 0s 3ms/step - loss: 0.6165 - accuracy: 0.6286 - val_loss: 0.6134 - val_accuracy: 0.6228\n",
      "Epoch 38/100\n",
      "15/15 [==============================] - 0s 3ms/step - loss: 0.6122 - accuracy: 0.6286 - val_loss: 0.6085 - val_accuracy: 0.6228\n",
      "Epoch 39/100\n",
      "15/15 [==============================] - 0s 3ms/step - loss: 0.6075 - accuracy: 0.6286 - val_loss: 0.6036 - val_accuracy: 0.6228\n",
      "Epoch 40/100\n",
      "15/15 [==============================] - 0s 3ms/step - loss: 0.6027 - accuracy: 0.6286 - val_loss: 0.5981 - val_accuracy: 0.6228\n",
      "Epoch 41/100\n",
      "15/15 [==============================] - 0s 3ms/step - loss: 0.5973 - accuracy: 0.6286 - val_loss: 0.5923 - val_accuracy: 0.6228\n",
      "Epoch 42/100\n",
      "15/15 [==============================] - 0s 3ms/step - loss: 0.5918 - accuracy: 0.6286 - val_loss: 0.5861 - val_accuracy: 0.6228\n",
      "Epoch 43/100\n",
      "15/15 [==============================] - 0s 3ms/step - loss: 0.5856 - accuracy: 0.6286 - val_loss: 0.5794 - val_accuracy: 0.6228\n",
      "Epoch 44/100\n",
      "15/15 [==============================] - 0s 3ms/step - loss: 0.5792 - accuracy: 0.6286 - val_loss: 0.5720 - val_accuracy: 0.6228\n",
      "Epoch 45/100\n",
      "15/15 [==============================] - 0s 3ms/step - loss: 0.5720 - accuracy: 0.6286 - val_loss: 0.5645 - val_accuracy: 0.6228\n",
      "Epoch 46/100\n",
      "15/15 [==============================] - 0s 3ms/step - loss: 0.5643 - accuracy: 0.6286 - val_loss: 0.5560 - val_accuracy: 0.6228\n",
      "Epoch 47/100\n",
      "15/15 [==============================] - 0s 3ms/step - loss: 0.5564 - accuracy: 0.6418 - val_loss: 0.5469 - val_accuracy: 0.7018\n",
      "Epoch 48/100\n",
      "15/15 [==============================] - 0s 3ms/step - loss: 0.5473 - accuracy: 0.6923 - val_loss: 0.5373 - val_accuracy: 0.7368\n",
      "Epoch 49/100\n",
      "15/15 [==============================] - 0s 3ms/step - loss: 0.5380 - accuracy: 0.7429 - val_loss: 0.5270 - val_accuracy: 0.7719\n",
      "Epoch 50/100\n",
      "15/15 [==============================] - 0s 3ms/step - loss: 0.5284 - accuracy: 0.7846 - val_loss: 0.5164 - val_accuracy: 0.7982\n",
      "Epoch 51/100\n",
      "15/15 [==============================] - 0s 3ms/step - loss: 0.5180 - accuracy: 0.8374 - val_loss: 0.5052 - val_accuracy: 0.8509\n",
      "Epoch 52/100\n",
      "15/15 [==============================] - 0s 3ms/step - loss: 0.5073 - accuracy: 0.8747 - val_loss: 0.4935 - val_accuracy: 0.8772\n",
      "Epoch 53/100\n",
      "15/15 [==============================] - 0s 3ms/step - loss: 0.4960 - accuracy: 0.8769 - val_loss: 0.4816 - val_accuracy: 0.8860\n",
      "Epoch 54/100\n",
      "15/15 [==============================] - 0s 3ms/step - loss: 0.4848 - accuracy: 0.8791 - val_loss: 0.4692 - val_accuracy: 0.8947\n",
      "Epoch 55/100\n",
      "15/15 [==============================] - 0s 3ms/step - loss: 0.4731 - accuracy: 0.8901 - val_loss: 0.4568 - val_accuracy: 0.9211\n",
      "Epoch 56/100\n",
      "15/15 [==============================] - 0s 3ms/step - loss: 0.4612 - accuracy: 0.9077 - val_loss: 0.4441 - val_accuracy: 0.9298\n",
      "Epoch 57/100\n",
      "15/15 [==============================] - 0s 3ms/step - loss: 0.4494 - accuracy: 0.9165 - val_loss: 0.4317 - val_accuracy: 0.9474\n",
      "Epoch 58/100\n",
      "15/15 [==============================] - 0s 3ms/step - loss: 0.4378 - accuracy: 0.9253 - val_loss: 0.4191 - val_accuracy: 0.9474\n",
      "Epoch 59/100\n",
      "15/15 [==============================] - 0s 3ms/step - loss: 0.4262 - accuracy: 0.9297 - val_loss: 0.4070 - val_accuracy: 0.9474\n",
      "Epoch 60/100\n",
      "15/15 [==============================] - 0s 3ms/step - loss: 0.4154 - accuracy: 0.9319 - val_loss: 0.3952 - val_accuracy: 0.9474\n",
      "Epoch 61/100\n",
      "15/15 [==============================] - 0s 3ms/step - loss: 0.4043 - accuracy: 0.9363 - val_loss: 0.3839 - val_accuracy: 0.9561\n",
      "Epoch 62/100\n",
      "15/15 [==============================] - 0s 3ms/step - loss: 0.3939 - accuracy: 0.9385 - val_loss: 0.3728 - val_accuracy: 0.9561\n",
      "Epoch 63/100\n",
      "15/15 [==============================] - 0s 3ms/step - loss: 0.3836 - accuracy: 0.9363 - val_loss: 0.3617 - val_accuracy: 0.9474\n",
      "Epoch 64/100\n",
      "15/15 [==============================] - 0s 3ms/step - loss: 0.3736 - accuracy: 0.9363 - val_loss: 0.3513 - val_accuracy: 0.9474\n",
      "Epoch 65/100\n",
      "15/15 [==============================] - 0s 3ms/step - loss: 0.3639 - accuracy: 0.9363 - val_loss: 0.3412 - val_accuracy: 0.9474\n",
      "Epoch 66/100\n",
      "15/15 [==============================] - 0s 3ms/step - loss: 0.3545 - accuracy: 0.9407 - val_loss: 0.3315 - val_accuracy: 0.9649\n",
      "Epoch 67/100\n",
      "15/15 [==============================] - 0s 3ms/step - loss: 0.3455 - accuracy: 0.9451 - val_loss: 0.3221 - val_accuracy: 0.9649\n",
      "Epoch 68/100\n",
      "15/15 [==============================] - 0s 3ms/step - loss: 0.3383 - accuracy: 0.9429 - val_loss: 0.3132 - val_accuracy: 0.9649\n",
      "Epoch 69/100\n",
      "15/15 [==============================] - 0s 3ms/step - loss: 0.3286 - accuracy: 0.9473 - val_loss: 0.3043 - val_accuracy: 0.9649\n",
      "Epoch 70/100\n",
      "15/15 [==============================] - 0s 3ms/step - loss: 0.3206 - accuracy: 0.9560 - val_loss: 0.2960 - val_accuracy: 0.9737\n",
      "Epoch 71/100\n",
      "15/15 [==============================] - 0s 3ms/step - loss: 0.3130 - accuracy: 0.9560 - val_loss: 0.2881 - val_accuracy: 0.9737\n",
      "Epoch 72/100\n",
      "15/15 [==============================] - 0s 3ms/step - loss: 0.3057 - accuracy: 0.9516 - val_loss: 0.2804 - val_accuracy: 0.9649\n",
      "Epoch 73/100\n",
      "15/15 [==============================] - 0s 3ms/step - loss: 0.2990 - accuracy: 0.9516 - val_loss: 0.2732 - val_accuracy: 0.9649\n",
      "Epoch 74/100\n",
      "15/15 [==============================] - 0s 3ms/step - loss: 0.2926 - accuracy: 0.9516 - val_loss: 0.2664 - val_accuracy: 0.9737\n",
      "Epoch 75/100\n",
      "15/15 [==============================] - 0s 3ms/step - loss: 0.2853 - accuracy: 0.9473 - val_loss: 0.2594 - val_accuracy: 0.9649\n",
      "Epoch 76/100\n",
      "15/15 [==============================] - 0s 3ms/step - loss: 0.2790 - accuracy: 0.9538 - val_loss: 0.2533 - val_accuracy: 0.9737\n",
      "Epoch 77/100\n",
      "15/15 [==============================] - 0s 3ms/step - loss: 0.2747 - accuracy: 0.9516 - val_loss: 0.2470 - val_accuracy: 0.9737\n",
      "Epoch 78/100\n",
      "15/15 [==============================] - 0s 3ms/step - loss: 0.2671 - accuracy: 0.9560 - val_loss: 0.2413 - val_accuracy: 0.9737\n",
      "Epoch 79/100\n",
      "15/15 [==============================] - 0s 3ms/step - loss: 0.2619 - accuracy: 0.9538 - val_loss: 0.2357 - val_accuracy: 0.9737\n",
      "Epoch 80/100\n",
      "15/15 [==============================] - 0s 3ms/step - loss: 0.2569 - accuracy: 0.9560 - val_loss: 0.2299 - val_accuracy: 0.9649\n",
      "Epoch 81/100\n",
      "15/15 [==============================] - 0s 3ms/step - loss: 0.2524 - accuracy: 0.9516 - val_loss: 0.2248 - val_accuracy: 0.9649\n",
      "Epoch 82/100\n",
      "15/15 [==============================] - 0s 3ms/step - loss: 0.2464 - accuracy: 0.9560 - val_loss: 0.2198 - val_accuracy: 0.9649\n",
      "Epoch 83/100\n",
      "15/15 [==============================] - 0s 3ms/step - loss: 0.2418 - accuracy: 0.9560 - val_loss: 0.2153 - val_accuracy: 0.9737\n",
      "Epoch 84/100\n",
      "15/15 [==============================] - 0s 3ms/step - loss: 0.2369 - accuracy: 0.9560 - val_loss: 0.2105 - val_accuracy: 0.9649\n",
      "Epoch 85/100\n",
      "15/15 [==============================] - 0s 3ms/step - loss: 0.2325 - accuracy: 0.9582 - val_loss: 0.2063 - val_accuracy: 0.9737\n",
      "Epoch 86/100\n",
      "15/15 [==============================] - 0s 3ms/step - loss: 0.2283 - accuracy: 0.9604 - val_loss: 0.2020 - val_accuracy: 0.9737\n",
      "Epoch 87/100\n",
      "15/15 [==============================] - 0s 3ms/step - loss: 0.2240 - accuracy: 0.9582 - val_loss: 0.1981 - val_accuracy: 0.9649\n",
      "Epoch 88/100\n",
      "15/15 [==============================] - 0s 3ms/step - loss: 0.2197 - accuracy: 0.9604 - val_loss: 0.1941 - val_accuracy: 0.9737\n",
      "Epoch 89/100\n",
      "15/15 [==============================] - 0s 3ms/step - loss: 0.2161 - accuracy: 0.9560 - val_loss: 0.1903 - val_accuracy: 0.9649\n",
      "Epoch 90/100\n",
      "15/15 [==============================] - 0s 3ms/step - loss: 0.2121 - accuracy: 0.9582 - val_loss: 0.1867 - val_accuracy: 0.9737\n",
      "Epoch 91/100\n",
      "15/15 [==============================] - 0s 3ms/step - loss: 0.2092 - accuracy: 0.9604 - val_loss: 0.1833 - val_accuracy: 0.9737\n",
      "Epoch 92/100\n",
      "15/15 [==============================] - 0s 3ms/step - loss: 0.2048 - accuracy: 0.9626 - val_loss: 0.1797 - val_accuracy: 0.9737\n",
      "Epoch 93/100\n",
      "15/15 [==============================] - 0s 3ms/step - loss: 0.2008 - accuracy: 0.9626 - val_loss: 0.1765 - val_accuracy: 0.9561\n",
      "Epoch 94/100\n",
      "15/15 [==============================] - 0s 3ms/step - loss: 0.1975 - accuracy: 0.9670 - val_loss: 0.1734 - val_accuracy: 0.9737\n",
      "Epoch 95/100\n",
      "15/15 [==============================] - 0s 3ms/step - loss: 0.1941 - accuracy: 0.9648 - val_loss: 0.1702 - val_accuracy: 0.9649\n",
      "Epoch 96/100\n",
      "15/15 [==============================] - 0s 3ms/step - loss: 0.1910 - accuracy: 0.9648 - val_loss: 0.1674 - val_accuracy: 0.9649\n",
      "Epoch 97/100\n",
      "15/15 [==============================] - 0s 3ms/step - loss: 0.1881 - accuracy: 0.9626 - val_loss: 0.1645 - val_accuracy: 0.9649\n",
      "Epoch 98/100\n",
      "15/15 [==============================] - 0s 3ms/step - loss: 0.1843 - accuracy: 0.9692 - val_loss: 0.1620 - val_accuracy: 0.9737\n",
      "Epoch 99/100\n",
      "15/15 [==============================] - 0s 3ms/step - loss: 0.1829 - accuracy: 0.9626 - val_loss: 0.1595 - val_accuracy: 0.9737\n",
      "Epoch 100/100\n",
      "15/15 [==============================] - 0s 3ms/step - loss: 0.1786 - accuracy: 0.9692 - val_loss: 0.1566 - val_accuracy: 0.9649\n"
     ]
    },
    {
     "data": {
      "text/plain": [
       "<keras.src.callbacks.History at 0x1fe8b59dcd0>"
      ]
     },
     "execution_count": 107,
     "metadata": {},
     "output_type": "execute_result"
    }
   ],
   "source": [
    "model.fit(X_train, y_train, epochs=100, batch_size=32, validation_data=(X_test, y_test))"
   ]
  },
  {
   "cell_type": "markdown",
   "metadata": {},
   "source": [
    "* Evaluate the model"
   ]
  },
  {
   "cell_type": "code",
   "execution_count": 108,
   "metadata": {},
   "outputs": [
    {
     "name": "stdout",
     "output_type": "stream",
     "text": [
      "4/4 [==============================] - 0s 2ms/step - loss: 0.1566 - accuracy: 0.9649\n",
      "Test loss: 0.15657471120357513\n",
      "Test accuracy: 0.9649122953414917\n"
     ]
    }
   ],
   "source": [
    "loss, accuracy = model.evaluate(X_test, y_test)\n",
    "print('Test loss:', loss)\n",
    "print('Test accuracy:', accuracy)"
   ]
  },
  {
   "cell_type": "markdown",
   "metadata": {},
   "source": [
    "* Generate predictions"
   ]
  },
  {
   "cell_type": "code",
   "execution_count": 109,
   "metadata": {},
   "outputs": [
    {
     "name": "stdout",
     "output_type": "stream",
     "text": [
      "4/4 [==============================] - 0s 1ms/step\n",
      "Predictions: [[1]\n",
      " [0]\n",
      " [0]\n",
      " [1]\n",
      " [1]\n",
      " [0]\n",
      " [0]\n",
      " [0]\n",
      " [1]\n",
      " [1]\n",
      " [1]\n",
      " [0]\n",
      " [1]\n",
      " [0]\n",
      " [1]\n",
      " [0]\n",
      " [1]\n",
      " [1]\n",
      " [1]\n",
      " [0]\n",
      " [1]\n",
      " [1]\n",
      " [0]\n",
      " [1]\n",
      " [1]\n",
      " [1]\n",
      " [1]\n",
      " [1]\n",
      " [1]\n",
      " [0]\n",
      " [1]\n",
      " [1]\n",
      " [1]\n",
      " [1]\n",
      " [1]\n",
      " [1]\n",
      " [0]\n",
      " [1]\n",
      " [0]\n",
      " [1]\n",
      " [1]\n",
      " [0]\n",
      " [1]\n",
      " [1]\n",
      " [1]\n",
      " [1]\n",
      " [1]\n",
      " [1]\n",
      " [1]\n",
      " [1]\n",
      " [0]\n",
      " [0]\n",
      " [1]\n",
      " [1]\n",
      " [1]\n",
      " [1]\n",
      " [1]\n",
      " [0]\n",
      " [0]\n",
      " [1]\n",
      " [1]\n",
      " [0]\n",
      " [0]\n",
      " [1]\n",
      " [1]\n",
      " [1]\n",
      " [0]\n",
      " [0]\n",
      " [1]\n",
      " [1]\n",
      " [0]\n",
      " [0]\n",
      " [1]\n",
      " [0]\n",
      " [1]\n",
      " [1]\n",
      " [1]\n",
      " [1]\n",
      " [1]\n",
      " [1]\n",
      " [0]\n",
      " [1]\n",
      " [1]\n",
      " [0]\n",
      " [0]\n",
      " [0]\n",
      " [0]\n",
      " [0]\n",
      " [1]\n",
      " [1]\n",
      " [1]\n",
      " [1]\n",
      " [1]\n",
      " [1]\n",
      " [1]\n",
      " [1]\n",
      " [0]\n",
      " [0]\n",
      " [1]\n",
      " [0]\n",
      " [0]\n",
      " [1]\n",
      " [0]\n",
      " [0]\n",
      " [1]\n",
      " [1]\n",
      " [1]\n",
      " [0]\n",
      " [1]\n",
      " [1]\n",
      " [0]\n",
      " [1]\n",
      " [0]\n",
      " [0]]\n"
     ]
    }
   ],
   "source": [
    "y_pred_MLP = (model.predict(X_test) > 0.5).astype(\"int32\")\n",
    "\n",
    "print('Predictions:', y_pred_MLP)"
   ]
  },
  {
   "cell_type": "markdown",
   "metadata": {},
   "source": [
    "* Generate the confusion matrix\n",
    "* Print the confusion matrix"
   ]
  },
  {
   "cell_type": "code",
   "execution_count": 110,
   "metadata": {},
   "outputs": [
    {
     "name": "stdout",
     "output_type": "stream",
     "text": [
      "[[40  3]\n",
      " [ 1 70]]\n"
     ]
    }
   ],
   "source": [
    "cm = confusion_matrix(y_test, y_pred_MLP)\n",
    "print(cm)"
   ]
  },
  {
   "cell_type": "markdown",
   "metadata": {},
   "source": [
    "* Plot the confusion matrix"
   ]
  },
  {
   "cell_type": "markdown",
   "metadata": {},
   "source": [
    "* Get the Precision, which is the proportion of positive predictions that are actually positive"
   ]
  },
  {
   "cell_type": "code",
   "execution_count": 111,
   "metadata": {},
   "outputs": [
    {
     "name": "stdout",
     "output_type": "stream",
     "text": [
      "Precision score: 0.958904109589041\n"
     ]
    }
   ],
   "source": [
    "precision = precision_score(y_test, y_pred_MLP)\n",
    "print('Precision score:', precision)"
   ]
  },
  {
   "cell_type": "markdown",
   "metadata": {},
   "source": [
    "* Get the F1 score, which is the harmonic mean or precision and recall that measures the balance between them\n",
    "* Get the recall score, which os the proportion of positive samples that are correctly predicted"
   ]
  },
  {
   "cell_type": "code",
   "execution_count": 112,
   "metadata": {},
   "outputs": [
    {
     "name": "stdout",
     "output_type": "stream",
     "text": [
      "*----------------------------*\n",
      "Recall:  0.9859154929577465\n",
      "*----------------------------*\n",
      "f1:  0.9722222222222222\n",
      "*----------------------------*\n"
     ]
    }
   ],
   "source": [
    "recall = recall_score(y_test, y_pred_MLP)\n",
    "print(\"*----------------------------*\")\n",
    "print(\"Recall: \", recall)\n",
    "f1 = f1_score(y_test, y_pred_MLP)\n",
    "print(\"*----------------------------*\")\n",
    "print(\"f1: \", f1)\n",
    "print(\"*----------------------------*\")\n"
   ]
  },
  {
   "cell_type": "code",
   "execution_count": 113,
   "metadata": {},
   "outputs": [
    {
     "data": {
      "image/png": "[encoded data removed]",
      "text/plain": [
       "<Figure size 640x480 with 2 Axes>"
      ]
     },
     "metadata": {},
     "output_type": "display_data"
    }
   ],
   "source": [
    "cmd = ConfusionMatrixDisplay(cm, display_labels=['Benign', 'Malignant'])\n",
    "cmd.plot()\n",
    "plt.title('Confusion Matrix MLP')\n",
    "plt.show()"
   ]
  },
  {
   "cell_type": "markdown",
   "metadata": {},
   "source": [
    "# Conclusions from MLP analysis\n",
    "\n",
    "Based on these results for the confusion matrix, I would conclude that the classification model is very accurate and has high performance on the test set.\n",
    "\n",
    "# Results analysis\n",
    "\n",
    "* True Positives (TP): The model accurately   predicted 70 malignant cases (actual positives).\n",
    "* True Negatives (TN): The model accurately   predicted 41 benign cases (actual negatives).\n",
    "* False Positives (FP): The model incorrectly predicted 2 benign cases as malignant.\n",
    "* False Negatives (FN): The model incorrectly predicted 1 malignant case as benign.\n",
    "\n",
    "* Accuracy 0.973 this means that the model predicted correctly 97.37% of the test samples\n",
    "* Precision \n",
    "    * 0.9722 for positive (malignant) calculated by the formula TP/(TP + FP) giving a 97.22% of correctly predicted malignant samples\n",
    "    * 0.9762 for negative (benignant) calculated by the formula TN/(TN + FN) giving a 97.62% of correctly predicted benign samples\n",
    "* Recall \n",
    "    * 0.9859 Proportion of positive samples (malignant) that are correctly determined by the formula TP/(TP + FN) meaning 98.58% correct predictions\n",
    "    * 0.9535 Proportion of negative samples (benign)    that are correctly determined by the formula FN/(FN + TN) meaning 95.35% correct predictions\n",
    "* F1 score: The harmonic mean of precision and recall that measures the balance between them calculated by: 2 * (precision * recall) / (precision + recall)\n",
    "    * positive (malignant): 0.9790 which means there's a high balance between precision and recall for the malignan samples\n",
    "    * negative (benign):    0.9648 which means there's a high balance between precision and recall for the benign   samples\n",
    "\n",
    "* The MLP approach to this dataset yields a very good overall score. The model effectively balances precision and recall, making it a robust choice for breast cancer prediction."
   ]
  },
  {
   "cell_type": "markdown",
   "metadata": {},
   "source": [
    "# Random Forest Approach\n",
    "* We already have the dataset, X (data) and y (target)  test and training are already separated too. \n",
    "* ready to work!"
   ]
  },
  {
   "cell_type": "code",
   "execution_count": 114,
   "metadata": {},
   "outputs": [],
   "source": [
    "\n",
    "from sklearn.ensemble import RandomForestClassifier\n",
    "\n",
    "# Initialize the Random Forest Classifier\n",
    "RF_classifier = RandomForestClassifier(n_estimators=100, random_state=42)\n"
   ]
  },
  {
   "cell_type": "code",
   "execution_count": 115,
   "metadata": {},
   "outputs": [
    {
     "data": {
      "text/html": [
       "<style>#sk-container-id-7 {color: black;}#sk-container-id-7 pre{padding: 0;}#sk-container-id-7 div.sk-toggleable {background-color: white;}#sk-container-id-7 label.sk-toggleable__label {cursor: pointer;display: block;width: 100%;margin-bottom: 0;padding: 0.3em;box-sizing: border-box;text-align: center;}#sk-container-id-7 label.sk-toggleable__label-arrow:before {content: \"▸\";float: left;margin-right: 0.25em;color: #696969;}#sk-container-id-7 label.sk-toggleable__label-arrow:hover:before {color: black;}#sk-container-id-7 div.sk-estimator:hover label.sk-toggleable__label-arrow:before {color: black;}#sk-container-id-7 div.sk-toggleable__content {max-height: 0;max-width: 0;overflow: hidden;text-align: left;background-color: #f0f8ff;}#sk-container-id-7 div.sk-toggleable__content pre {margin: 0.2em;color: black;border-radius: 0.25em;background-color: #f0f8ff;}#sk-container-id-7 input.sk-toggleable__control:checked~div.sk-toggleable__content {max-height: 200px;max-width: 100%;overflow: auto;}#sk-container-id-7 input.sk-toggleable__control:checked~label.sk-toggleable__label-arrow:before {content: \"▾\";}#sk-container-id-7 div.sk-estimator input.sk-toggleable__control:checked~label.sk-toggleable__label {background-color: #d4ebff;}#sk-container-id-7 div.sk-label input.sk-toggleable__control:checked~label.sk-toggleable__label {background-color: #d4ebff;}#sk-container-id-7 input.sk-hidden--visually {border: 0;clip: rect(1px 1px 1px 1px);clip: rect(1px, 1px, 1px, 1px);height: 1px;margin: -1px;overflow: hidden;padding: 0;position: absolute;width: 1px;}#sk-container-id-7 div.sk-estimator {font-family: monospace;background-color: #f0f8ff;border: 1px dotted black;border-radius: 0.25em;box-sizing: border-box;margin-bottom: 0.5em;}#sk-container-id-7 div.sk-estimator:hover {background-color: #d4ebff;}#sk-container-id-7 div.sk-parallel-item::after {content: \"\";width: 100%;border-bottom: 1px solid gray;flex-grow: 1;}#sk-container-id-7 div.sk-label:hover label.sk-toggleable__label {background-color: #d4ebff;}#sk-container-id-7 div.sk-serial::before {content: \"\";position: absolute;border-left: 1px solid gray;box-sizing: border-box;top: 0;bottom: 0;left: 50%;z-index: 0;}#sk-container-id-7 div.sk-serial {display: flex;flex-direction: column;align-items: center;background-color: white;padding-right: 0.2em;padding-left: 0.2em;position: relative;}#sk-container-id-7 div.sk-item {position: relative;z-index: 1;}#sk-container-id-7 div.sk-parallel {display: flex;align-items: stretch;justify-content: center;background-color: white;position: relative;}#sk-container-id-7 div.sk-item::before, #sk-container-id-7 div.sk-parallel-item::before {content: \"\";position: absolute;border-left: 1px solid gray;box-sizing: border-box;top: 0;bottom: 0;left: 50%;z-index: -1;}#sk-container-id-7 div.sk-parallel-item {display: flex;flex-direction: column;z-index: 1;position: relative;background-color: white;}#sk-container-id-7 div.sk-parallel-item:first-child::after {align-self: flex-end;width: 50%;}#sk-container-id-7 div.sk-parallel-item:last-child::after {align-self: flex-start;width: 50%;}#sk-container-id-7 div.sk-parallel-item:only-child::after {width: 0;}#sk-container-id-7 div.sk-dashed-wrapped {border: 1px dashed gray;margin: 0 0.4em 0.5em 0.4em;box-sizing: border-box;padding-bottom: 0.4em;background-color: white;}#sk-container-id-7 div.sk-label label {font-family: monospace;font-weight: bold;display: inline-block;line-height: 1.2em;}#sk-container-id-7 div.sk-label-container {text-align: center;}#sk-container-id-7 div.sk-container {/* jupyter's `normalize.less` sets `[hidden] { display: none; }` but bootstrap.min.css set `[hidden] { display: none !important; }` so we also need the `!important` here to be able to override the default hidden behavior on the sphinx rendered scikit-learn.org. See: https://github.com/scikit-learn/scikit-learn/issues/21755 */display: inline-block !important;position: relative;}#sk-container-id-7 div.sk-text-repr-fallback {display: none;}</style><div id=\"sk-container-id-7\" class=\"sk-top-container\"><div class=\"sk-text-repr-fallback\"><pre>RandomForestClassifier(random_state=42)</pre><b>In a Jupyter environment, please rerun this cell to show the HTML representation or trust the notebook. <br />On GitHub, the HTML representation is unable to render, please try loading this page with nbviewer.org.</b></div><div class=\"sk-container\" hidden><div class=\"sk-item\"><div class=\"sk-estimator sk-toggleable\"><input class=\"sk-toggleable__control sk-hidden--visually\" id=\"sk-estimator-id-7\" type=\"checkbox\" checked><label for=\"sk-estimator-id-7\" class=\"sk-toggleable__label sk-toggleable__label-arrow\">RandomForestClassifier</label><div class=\"sk-toggleable__content\"><pre>RandomForestClassifier(random_state=42)</pre></div></div></div></div></div>"
      ],
      "text/plain": [
       "RandomForestClassifier(random_state=42)"
      ]
     },
     "execution_count": 115,
     "metadata": {},
     "output_type": "execute_result"
    }
   ],
   "source": [
    "# Train the model\n",
    "RF_classifier.fit(X_train, y_train)\n"
   ]
  },
  {
   "cell_type": "code",
   "execution_count": 116,
   "metadata": {},
   "outputs": [
    {
     "name": "stdout",
     "output_type": "stream",
     "text": [
      "[1 0 0 1 1 0 0 0 0 1 1 0 1 0 1 0 1 1 1 0 1 1 0 1 1 1 1 1 1 0 1 1 1 1 1 1 0\n",
      " 1 0 1 1 0 1 1 1 1 1 1 1 1 0 0 1 1 1 1 1 0 0 1 1 0 0 1 1 1 0 0 1 1 0 0 1 0\n",
      " 1 1 1 1 1 1 0 1 1 0 0 0 0 0 1 1 1 1 1 1 1 1 0 0 1 0 0 1 0 0 1 1 1 0 1 1 0\n",
      " 1 1 0]\n"
     ]
    }
   ],
   "source": [
    "# Make predictions on the test set\n",
    "\n",
    "y_pred_RF = RF_classifier.predict(X_test)\n",
    "\n",
    "print(y_pred_RF)\n"
   ]
  },
  {
   "cell_type": "code",
   "execution_count": 117,
   "metadata": {},
   "outputs": [
    {
     "name": "stdout",
     "output_type": "stream",
     "text": [
      "Random Forest Accuracy: 0.96\n"
     ]
    }
   ],
   "source": [
    "# Evaluate the model\n",
    "\n",
    "from sklearn.metrics import accuracy_score, classification_report\n",
    "\n",
    "\n",
    "accuracy_RF = accuracy_score(y_test, y_pred_RF)\n",
    "\n",
    "print(f\"Random Forest Accuracy: {accuracy_RF:.2f}\")"
   ]
  },
  {
   "cell_type": "code",
   "execution_count": 118,
   "metadata": {},
   "outputs": [
    {
     "name": "stdout",
     "output_type": "stream",
     "text": [
      "RF Confusion Matrix:\n",
      "[[40  3]\n",
      " [ 1 70]]\n"
     ]
    }
   ],
   "source": [
    "# Generate the confusion matrix\n",
    "\n",
    "conf_matrix_RF = confusion_matrix(y_test, y_pred_RF)\n",
    "\n",
    "# Display the confusion matrix\n",
    "\n",
    "print(\"RF Confusion Matrix:\")\n",
    "print(conf_matrix_RF)\n"
   ]
  },
  {
   "cell_type": "code",
   "execution_count": 119,
   "metadata": {},
   "outputs": [
    {
     "name": "stdout",
     "output_type": "stream",
     "text": [
      "RF Precision score: 0.958904109589041\n"
     ]
    }
   ],
   "source": [
    "# Calculate precision score\n",
    "\n",
    "precision_RF = precision_score(y_test, y_pred_RF)\n",
    "print('RF Precision score:', precision_RF)"
   ]
  },
  {
   "cell_type": "code",
   "execution_count": 120,
   "metadata": {},
   "outputs": [
    {
     "name": "stdout",
     "output_type": "stream",
     "text": [
      "*----------------------------*\n",
      "RF Recall:  0.9859154929577465\n",
      "*----------------------------*\n",
      "RF f1:  0.9722222222222222\n",
      "*----------------------------*\n"
     ]
    }
   ],
   "source": [
    "# Calculate Recall and f1\n",
    "\n",
    "recall_RF = recall_score(y_test, y_pred_RF)\n",
    "print(\"*----------------------------*\")\n",
    "print(\"RF Recall: \", recall_RF)\n",
    "f1_RF = f1_score(y_test, y_pred_RF)\n",
    "print(\"*----------------------------*\")\n",
    "print(\"RF f1: \", f1_RF)\n",
    "print(\"*----------------------------*\")"
   ]
  },
  {
   "cell_type": "code",
   "execution_count": 121,
   "metadata": {},
   "outputs": [
    {
     "data": {
      "image/png": "[encoded data removed]",
      "text/plain": [
       "<Figure size 640x480 with 2 Axes>"
      ]
     },
     "metadata": {},
     "output_type": "display_data"
    }
   ],
   "source": [
    "# Get the confusion matrix\n",
    "\n",
    "cmd_RF = ConfusionMatrixDisplay(conf_matrix_RF, display_labels=['Benign', 'Malignant'])\n",
    "cmd_RF.plot()\n",
    "plt.title('Confusion Matrix RF')\n",
    "plt.show()"
   ]
  },
  {
   "cell_type": "markdown",
   "metadata": {},
   "source": [
    "# Conclusions from Random Forest analysis\n",
    "\n",
    "Based on these results for the confusion matrix, I would conclude that the classification model is very accurate and has high performance on the test set.\n",
    "\n",
    "# Results analysis\n",
    "\n",
    "* True Positives (TP): The model accurately  predicted 70 malignant cases (actual positives).\n",
    "* True Negatives (TN): The model accurately  predicted 40 benign cases (actual negatives).\n",
    "* False Positives (FP): The model incorrectly predicted 3 benign cases as malignant.\n",
    "* False Negatives (FN): The model incorrectly predicted 1 malignant case as benign.\n",
    "\n",
    "* Accuracy 0.96 this means that the model predicted correctly 96% of the test samples\n",
    "* Precision \n",
    "    * 0.95 for positive (malignant) calculated by the formula TP/(TP + FP) giving a 95% of correctly predicted malignant samples\n",
    "    * 0.9756 for negative (benignant) calculated by the formula TN/(TN + FN) giving a 97.56% of correctly predicted benign samples\n",
    "* Recall \n",
    "    * 0.9859 Proportion of positive samples (malignant) that are correctly determined by the formula TP/(TP + FN) meaning 98.59% correct predictions\n",
    "    * 0.9756 Proportion of negative samples (benign)    that are correctly determined by the formula TN/(TN + FN) meaning 97.56% correct predictions\n",
    "* F1 score: The harmonic mean of precision and recall that measures the balance between them calculated by: 2 * (precision * recall) / (precision + recall)\n",
    "    * positive (malignant): 0.9722 which means there's a 97.22% balance between precision and recall for the malignan samples\n",
    "    * negative (benign):    0.9756 which means there's a 97.56% balance between precision and recall for the benign   samples\n",
    "\n",
    "* The Random Forest approach to this dataset yields a very good overall score. The model effectively balances precision and recall, making it a robust choice for breast cancer prediction."
   ]
  },
  {
   "cell_type": "markdown",
   "metadata": {},
   "source": [
    "# Logistic Regression LR\n"
   ]
  },
  {
   "cell_type": "code",
   "execution_count": 122,
   "metadata": {},
   "outputs": [
    {
     "data": {
      "text/html": [
       "<style>#sk-container-id-8 {color: black;}#sk-container-id-8 pre{padding: 0;}#sk-container-id-8 div.sk-toggleable {background-color: white;}#sk-container-id-8 label.sk-toggleable__label {cursor: pointer;display: block;width: 100%;margin-bottom: 0;padding: 0.3em;box-sizing: border-box;text-align: center;}#sk-container-id-8 label.sk-toggleable__label-arrow:before {content: \"▸\";float: left;margin-right: 0.25em;color: #696969;}#sk-container-id-8 label.sk-toggleable__label-arrow:hover:before {color: black;}#sk-container-id-8 div.sk-estimator:hover label.sk-toggleable__label-arrow:before {color: black;}#sk-container-id-8 div.sk-toggleable__content {max-height: 0;max-width: 0;overflow: hidden;text-align: left;background-color: #f0f8ff;}#sk-container-id-8 div.sk-toggleable__content pre {margin: 0.2em;color: black;border-radius: 0.25em;background-color: #f0f8ff;}#sk-container-id-8 input.sk-toggleable__control:checked~div.sk-toggleable__content {max-height: 200px;max-width: 100%;overflow: auto;}#sk-container-id-8 input.sk-toggleable__control:checked~label.sk-toggleable__label-arrow:before {content: \"▾\";}#sk-container-id-8 div.sk-estimator input.sk-toggleable__control:checked~label.sk-toggleable__label {background-color: #d4ebff;}#sk-container-id-8 div.sk-label input.sk-toggleable__control:checked~label.sk-toggleable__label {background-color: #d4ebff;}#sk-container-id-8 input.sk-hidden--visually {border: 0;clip: rect(1px 1px 1px 1px);clip: rect(1px, 1px, 1px, 1px);height: 1px;margin: -1px;overflow: hidden;padding: 0;position: absolute;width: 1px;}#sk-container-id-8 div.sk-estimator {font-family: monospace;background-color: #f0f8ff;border: 1px dotted black;border-radius: 0.25em;box-sizing: border-box;margin-bottom: 0.5em;}#sk-container-id-8 div.sk-estimator:hover {background-color: #d4ebff;}#sk-container-id-8 div.sk-parallel-item::after {content: \"\";width: 100%;border-bottom: 1px solid gray;flex-grow: 1;}#sk-container-id-8 div.sk-label:hover label.sk-toggleable__label {background-color: #d4ebff;}#sk-container-id-8 div.sk-serial::before {content: \"\";position: absolute;border-left: 1px solid gray;box-sizing: border-box;top: 0;bottom: 0;left: 50%;z-index: 0;}#sk-container-id-8 div.sk-serial {display: flex;flex-direction: column;align-items: center;background-color: white;padding-right: 0.2em;padding-left: 0.2em;position: relative;}#sk-container-id-8 div.sk-item {position: relative;z-index: 1;}#sk-container-id-8 div.sk-parallel {display: flex;align-items: stretch;justify-content: center;background-color: white;position: relative;}#sk-container-id-8 div.sk-item::before, #sk-container-id-8 div.sk-parallel-item::before {content: \"\";position: absolute;border-left: 1px solid gray;box-sizing: border-box;top: 0;bottom: 0;left: 50%;z-index: -1;}#sk-container-id-8 div.sk-parallel-item {display: flex;flex-direction: column;z-index: 1;position: relative;background-color: white;}#sk-container-id-8 div.sk-parallel-item:first-child::after {align-self: flex-end;width: 50%;}#sk-container-id-8 div.sk-parallel-item:last-child::after {align-self: flex-start;width: 50%;}#sk-container-id-8 div.sk-parallel-item:only-child::after {width: 0;}#sk-container-id-8 div.sk-dashed-wrapped {border: 1px dashed gray;margin: 0 0.4em 0.5em 0.4em;box-sizing: border-box;padding-bottom: 0.4em;background-color: white;}#sk-container-id-8 div.sk-label label {font-family: monospace;font-weight: bold;display: inline-block;line-height: 1.2em;}#sk-container-id-8 div.sk-label-container {text-align: center;}#sk-container-id-8 div.sk-container {/* jupyter's `normalize.less` sets `[hidden] { display: none; }` but bootstrap.min.css set `[hidden] { display: none !important; }` so we also need the `!important` here to be able to override the default hidden behavior on the sphinx rendered scikit-learn.org. See: https://github.com/scikit-learn/scikit-learn/issues/21755 */display: inline-block !important;position: relative;}#sk-container-id-8 div.sk-text-repr-fallback {display: none;}</style><div id=\"sk-container-id-8\" class=\"sk-top-container\"><div class=\"sk-text-repr-fallback\"><pre>LogisticRegression()</pre><b>In a Jupyter environment, please rerun this cell to show the HTML representation or trust the notebook. <br />On GitHub, the HTML representation is unable to render, please try loading this page with nbviewer.org.</b></div><div class=\"sk-container\" hidden><div class=\"sk-item\"><div class=\"sk-estimator sk-toggleable\"><input class=\"sk-toggleable__control sk-hidden--visually\" id=\"sk-estimator-id-8\" type=\"checkbox\" checked><label for=\"sk-estimator-id-8\" class=\"sk-toggleable__label sk-toggleable__label-arrow\">LogisticRegression</label><div class=\"sk-toggleable__content\"><pre>LogisticRegression()</pre></div></div></div></div></div>"
      ],
      "text/plain": [
       "LogisticRegression()"
      ]
     },
     "execution_count": 122,
     "metadata": {},
     "output_type": "execute_result"
    }
   ],
   "source": [
    "# Generate model\n",
    "\n",
    "from sklearn.linear_model import LogisticRegression\n",
    "\n",
    "# Train LR model\n",
    "\n",
    "model_LR = LogisticRegression()\n",
    "model_LR.fit(X_train, y_train)"
   ]
  },
  {
   "cell_type": "code",
   "execution_count": 123,
   "metadata": {},
   "outputs": [
    {
     "name": "stdout",
     "output_type": "stream",
     "text": [
      "[1 0 0 1 1 0 0 0 1 1 1 0 1 0 1 0 1 1 1 0 1 1 0 1 1 1 1 1 1 0 1 1 1 1 1 1 0\n",
      " 1 0 1 1 0 1 1 1 1 1 1 1 1 0 0 1 1 1 1 1 0 0 1 1 0 0 1 1 1 0 0 1 1 0 0 1 0\n",
      " 1 1 1 1 1 1 0 1 0 0 0 0 0 0 1 1 1 1 1 1 1 1 0 0 1 0 0 1 0 0 1 1 1 0 1 1 0\n",
      " 1 1 0]\n"
     ]
    }
   ],
   "source": [
    "# Predictions\n",
    "\n",
    "y_pred_LR = model_LR.predict(X_test)\n",
    "\n",
    "print(y_pred_LR)"
   ]
  },
  {
   "cell_type": "code",
   "execution_count": 124,
   "metadata": {},
   "outputs": [
    {
     "name": "stdout",
     "output_type": "stream",
     "text": [
      "Random Forest Accuracy: 0.98\n"
     ]
    }
   ],
   "source": [
    "# Calculate accuracy\n",
    "\n",
    "accuracy_LR = accuracy_score(y_test, y_pred_LR)\n",
    "\n",
    "print(f\"Random Forest Accuracy: {accuracy_LR:.2f}\")"
   ]
  },
  {
   "cell_type": "code",
   "execution_count": 125,
   "metadata": {},
   "outputs": [
    {
     "name": "stdout",
     "output_type": "stream",
     "text": [
      "Confusion Matrix LR:\n",
      "[[41  2]\n",
      " [ 0 71]]\n"
     ]
    }
   ],
   "source": [
    "# Calculate confusion matrix\n",
    "\n",
    "conf_matrix_LR = confusion_matrix(y_test, y_pred_LR)\n",
    "\n",
    "# Display confusion matrix\n",
    "\n",
    "print(\"Confusion Matrix LR:\")\n",
    "print(conf_matrix_LR)"
   ]
  },
  {
   "cell_type": "code",
   "execution_count": 126,
   "metadata": {},
   "outputs": [
    {
     "name": "stdout",
     "output_type": "stream",
     "text": [
      "RF Precision score: 0.9726027397260274\n"
     ]
    }
   ],
   "source": [
    "# Calculate precision\n",
    "\n",
    "precision_LR = precision_score(y_test, y_pred_LR)\n",
    "print('RF Precision score:', precision_LR)"
   ]
  },
  {
   "cell_type": "code",
   "execution_count": 127,
   "metadata": {},
   "outputs": [
    {
     "name": "stdout",
     "output_type": "stream",
     "text": [
      "*----------------------------*\n",
      "RF Recall:  1.0\n",
      "*----------------------------*\n",
      "RF f1:  0.9861111111111112\n",
      "*----------------------------*\n"
     ]
    }
   ],
   "source": [
    "# Calculate recall and f1\n",
    "\n",
    "recall_LR = recall_score(y_test, y_pred_LR)\n",
    "print(\"*----------------------------*\")\n",
    "print(\"RF Recall: \", recall_LR)\n",
    "f1_LR = f1_score(y_test, y_pred_LR)\n",
    "print(\"*----------------------------*\")\n",
    "print(\"RF f1: \", f1_LR)\n",
    "print(\"*----------------------------*\")"
   ]
  },
  {
   "cell_type": "code",
   "execution_count": 128,
   "metadata": {},
   "outputs": [
    {
     "data": {
      "image/png": "[encoded data removed]",
      "text/plain": [
       "<Figure size 640x480 with 2 Axes>"
      ]
     },
     "metadata": {},
     "output_type": "display_data"
    }
   ],
   "source": [
    "# Calculate confusion matrix for LR\n",
    "# Plot confusion matrix for LR\n",
    "\n",
    "cmd_LR = ConfusionMatrixDisplay(conf_matrix_LR, display_labels=['Benign', 'Malignant'])\n",
    "cmd_LR.plot()\n",
    "plt.title('Confusion Matrix Linear Regression')\n",
    "plt.show()"
   ]
  },
  {
   "cell_type": "markdown",
   "metadata": {},
   "source": [
    "# Conclusions from Logistic Regression analysis\n",
    "\n",
    "Based on these results for the confusion matrix, I would conclude that the classification model is very accurate and has high performance on the test set.\n",
    "\n",
    "# Results analysis\n",
    "\n",
    "* True Positives (TP): The model correctly predicted 70 malignant cases (actual positives).\n",
    "* True Negatives (TN): The model correctly predicted 41 benign cases (actual negatives).\n",
    "* False Positives (FP): The model incorrectly predicted 2 benign cases as malignant.\n",
    "* False Negatives (FN): The model incorrectly predicted 0 malignant case as benign.\n",
    "\n",
    "* Accuracy 0.98 this means that the model predicted correctly 98% of the test samples\n",
    "* Precision \n",
    "    * 0.97 for positive (malignant) calculated by the formula TP/(TP + FP) giving a 97% of correctly predicted malignant samples\n",
    "    * 1 for negative (benignant) calculated by the formula TN/(TN + FN) giving a 100% of correctly predicted benign samples\n",
    "* Recall \n",
    "    * 1 Proportion of positive samples (malignant) that are correctly determined by the formula TP/(TP + FN) meaning 100% correct predictions\n",
    "    * 1 Proportion of negative samples (benign)    that are correctly determined by the formula TN/(TN + FN) meaning 100% correct predictions\n",
    "* F1 score: The harmonic mean of precision and recall that measures the balance between them calculated by: 2 * (precision * recall) / (precision + recall)\n",
    "    * positive (malignant): 0.9861 which means there's a 98.61% balance between precision and recall for the malignan samples\n",
    "    * negative (benign):    1 which means there's a 100% balance between precision and recall for the benign   samples\n",
    "\n",
    "* The Linear approach to this dataset yields a perfect score for screening cancer tests as it would not confuse FN diagnosis. The abscense of false negatives is crucial for patient survival"
   ]
  },
  {
   "cell_type": "markdown",
   "metadata": {},
   "source": [
    "# Results Summary"
   ]
  },
  {
   "cell_type": "code",
   "execution_count": 129,
   "metadata": {},
   "outputs": [
    {
     "name": "stdout",
     "output_type": "stream",
     "text": [
      "***-----------------------------------------------------***\n",
      "***---------------CONFUSION MATRIX----------------------***\n",
      "  Model  TN  FP  FN  TP\n",
      "0   MLP  40   3   1  70\n",
      "1    RF  40   3   1  70\n",
      "2    LR  41   2   0  71\n",
      "***-----------------------------------------------------***\n",
      "***-----------------------------------------------------***\n",
      "***---------------MODEL INDEX SUMMARY-------------------***\n",
      "  Model     Acc   Pres+  Recall+     f1+\n",
      "0   MLP  0.9649  0.9589   0.9859  0.9722\n",
      "1    RF  0.9649  0.9589   0.9859  0.9722\n",
      "2    LR  0.9825  0.9726   1.0000  0.9861\n",
      "***-----------------------------------------------------***\n",
      "***-----------------------------------------------------***\n"
     ]
    }
   ],
   "source": [
    "# make a Summary table for confusion matrix\n",
    "column_names_cm = ['Model', 'TN','FP','FN', 'TP']\n",
    "\n",
    "tn1, fp1, fn1, tp1 = cm.ravel()\n",
    "tn2, fp2, fn2, tp2 = conf_matrix_RF.ravel()\n",
    "tn3, fp3, fn3, tp3 = conf_matrix_LR.ravel()\n",
    "\n",
    "cm_MLP_res          =   ['MLP', tn1, fp1, fn1, tp1]\n",
    "conf_matrix_RF_res  =   ['RF', tn2, fp2, fn2, tp2]\n",
    "conf_matrix_LR_res  =   ['LR', tn3, fp3, fn3, tp3]\n",
    "\n",
    "data_res = [cm_MLP_res, conf_matrix_RF_res, conf_matrix_LR_res] \n",
    "\n",
    "df_res = pd.DataFrame(data= data_res, columns=column_names_cm)\n",
    "\n",
    "# make a summary table for model index\n",
    "\n",
    "column_names_index = ['Model', 'Acc','Pres+','Recall+','f1+']\n",
    "\n",
    "index_MLP = ['MLP', round(accuracy,    4), round(precision,    4), round(recall,    4), round(f1,    4)]\n",
    "index_RF  = ['RF' , round(accuracy_RF, 4), round(precision_RF, 4), round(recall_RF, 4), round(f1_RF, 4)]\n",
    "index_LR  = ['LR' , round(accuracy_LR, 4), round(precision_LR, 4), round(recall_LR, 4), round(f1_LR, 4)]\n",
    "\n",
    "index_data = [index_MLP, index_RF, index_LR]\n",
    "\n",
    "df_index_resume = pd.DataFrame(columns=column_names_index, data=index_data)\n",
    "\n",
    "print('***-----------------------------------------------------***')\n",
    "print('***---------------CONFUSION MATRIX----------------------***')\n",
    "print(df_res)\n",
    "print('***-----------------------------------------------------***')\n",
    "print('***-----------------------------------------------------***')\n",
    "print('***---------------MODEL INDEX SUMMARY-------------------***')\n",
    "print(df_index_resume)\n",
    "print('***-----------------------------------------------------***')\n",
    "print('***-----------------------------------------------------***')\n"
   ]
  },
  {
   "cell_type": "markdown",
   "metadata": {},
   "source": [
    "# FINAL CONCLUSIONS\n",
    "\n",
    "Based on the gathered results we can assert the following:\n",
    "\n",
    "* All three models perform well, but let’s focus on minimizing false negatives (FN) since missing malignant cases is critical.\n",
    "* Logistic Regression (LR) stands out:\n",
    "    * It achieves perfect recall (100%) for malignant cases, meaning it correctly identifies all malignant samples.\n",
    "    * The F1 score (harmonic mean of precision and recall) is also high (0.9861).\n",
    "    * LR has the least combination between FP and FN (2, 0) from the models\n",
    "* Therefore, Logistic Regression appears to be the best model for the proposed Breast Cancer Wisconsin dataset, emphasizing its ability to minimize false negatives and accurately predict malignant cases."
   ]
  }
 ],
 "metadata": {
  "kernelspec": {
   "display_name": "Python 3",
   "language": "python",
   "name": "python3"
  },
  "language_info": {
   "codemirror_mode": {
    "name": "ipython",
    "version": 3
   },
   "file_extension": ".py",
   "mimetype": "text/x-python",
   "name": "python",
   "nbconvert_exporter": "python",
   "pygments_lexer": "ipython3",
   "version": "3.8.0"
  }
 },
 "nbformat": 4,
 "nbformat_minor": 2
}
